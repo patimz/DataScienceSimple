{
 "cells": [
  {
   "cell_type": "markdown",
   "metadata": {},
   "source": [
    "# Filling of Null Values\n",
    "\n",
    "In this notebook we will go over the basic tools used to fill null values in Spark tables.\n",
    "\n",
    "We will start by importing the pyspark machinery and a helper function (```create_sp_table4```) that creates the table we will be using."
   ]
  },
  {
   "cell_type": "code",
   "execution_count": 1,
   "metadata": {},
   "outputs": [],
   "source": [
    "# Spark related machinery\n",
    "import pyspark\n",
    "import pyspark.sql.functions as F\n",
    "from pyspark import SparkConf\n",
    "from pyspark.sql.types import *\n",
    "from pyspark.sql import SparkSession\n",
    "from pyspark.sql import HiveContext\n",
    "from pyspark.sql.functions import concat_ws\n",
    "\n",
    "spark = pyspark.sql.SparkSession.builder.enableHiveSupport().getOrCreate()"
   ]
  },
  {
   "cell_type": "code",
   "execution_count": 2,
   "metadata": {},
   "outputs": [],
   "source": [
    "from pyspark_functions import create_sp_table4"
   ]
  },
  {
   "cell_type": "markdown",
   "metadata": {},
   "source": [
    "In the next lines we will create a table called **data** using the function ```create_sp_table4```.  The table has 5 columns:\n",
    "* participant_id\n",
    "* name\n",
    "* last_name\n",
    "* age\n",
    "* score_game_1\n",
    "* score_game_2\n",
    "\n",
    "In all columns, except **participant_id**, we have ```null``` or ```NaN``` values. A ```nul``` value represents **no value**, while a ```NaN``` value stands for \"not a number\". While they are different, in this notebook we won't make a distinction when dealing with them, and for now on we will use the word \"null\" when referring to both of them."
   ]
  },
  {
   "cell_type": "code",
   "execution_count": 3,
   "metadata": {},
   "outputs": [
    {
     "name": "stdout",
     "output_type": "stream",
     "text": [
      "+--------------+-------+---------+----+------------+------------+\n",
      "|participant_id|   name|last_name| age|score_game_1|score_game_2|\n",
      "+--------------+-------+---------+----+------------+------------+\n",
      "|             1|   null|     Lara|27.0|        89.0|         NaN|\n",
      "|             2|   Liam|     null| NaN|        50.0|         NaN|\n",
      "|             3| Olivia|   Wilson|25.0|         NaN|        70.0|\n",
      "|             4|Jackson|     null|24.0|        98.0|        90.0|\n",
      "|             5|   null|    Moore|26.0|       100.0|        89.0|\n",
      "|             6| Oliver|     Leon| NaN|        65.0|        70.0|\n",
      "|             7|  Lucas|    Brown|24.0|         NaN|        75.0|\n",
      "|             8|   null|     null|31.0|        85.0|        79.0|\n",
      "|             9|   Aria| Robinson| NaN|        80.0|         NaN|\n",
      "|            10| Amelia|     null|29.0|         NaN|        99.0|\n",
      "+--------------+-------+---------+----+------------+------------+\n",
      "\n"
     ]
    }
   ],
   "source": [
    "data = create_sp_table4()\n",
    "data.show()"
   ]
  },
  {
   "cell_type": "markdown",
   "metadata": {},
   "source": [
    "# Method 1\n",
    "\n",
    "In our first example we will fill all of the null values using a dictionary and the ```fillna``` method. We will fill the null values based in the table shown below:\n",
    "\n",
    "* name ---------> \"JAMES\"\n",
    "* last_name ----> \"BOND\"\n",
    "* age ----------> \"-100\"\n",
    "* score_game_1 -> \"-10\"\n",
    "* score_game_2 -> \"-20\"\n",
    "\n",
    "The dictionary has the name of the columns and the value used to fill the null values. Then, this dictionary is passed to the ```fillna``` method, see the block of code below:"
   ]
  },
  {
   "cell_type": "code",
   "execution_count": 4,
   "metadata": {},
   "outputs": [
    {
     "name": "stdout",
     "output_type": "stream",
     "text": [
      "+--------------+-------+---------+------+------------+------------+\n",
      "|participant_id|   name|last_name|   age|score_game_1|score_game_2|\n",
      "+--------------+-------+---------+------+------------+------------+\n",
      "|             1|  JAMES|     Lara|  27.0|        89.0|       -20.0|\n",
      "|             2|   Liam|     BOND|-100.0|        50.0|       -20.0|\n",
      "|             3| Olivia|   Wilson|  25.0|       -10.0|        70.0|\n",
      "|             4|Jackson|     BOND|  24.0|        98.0|        90.0|\n",
      "|             5|  JAMES|    Moore|  26.0|       100.0|        89.0|\n",
      "|             6| Oliver|     Leon|-100.0|        65.0|        70.0|\n",
      "|             7|  Lucas|    Brown|  24.0|       -10.0|        75.0|\n",
      "|             8|  JAMES|     BOND|  31.0|        85.0|        79.0|\n",
      "|             9|   Aria| Robinson|-100.0|        80.0|       -20.0|\n",
      "|            10| Amelia|     BOND|  29.0|       -10.0|        99.0|\n",
      "+--------------+-------+---------+------+------------+------------+\n",
      "\n"
     ]
    }
   ],
   "source": [
    "fill_values_dictio = {\"name\": \"JAMES\",\n",
    "                      \"last_name\": \"BOND\",\n",
    "                      \"age\": -100,\n",
    "                      \"score_game_1\": -10,\n",
    "                      \"score_game_2\": -20}\n",
    "\n",
    "example_1 = data.fillna(fill_values_dictio)\n",
    "\n",
    "example_1.show()"
   ]
  },
  {
   "cell_type": "markdown",
   "metadata": {},
   "source": [
    "# Method 2\n",
    "\n",
    "A second way of filling null values is to pass, to the ```fillna``` method, the value we want to use to fill the null values and a list with the columns. In this example we will fill the null values in the columns **age**, **score_game_1**, and **score_game_2** with the value **-100**, see the block of code below:"
   ]
  },
  {
   "cell_type": "code",
   "execution_count": 5,
   "metadata": {},
   "outputs": [
    {
     "name": "stdout",
     "output_type": "stream",
     "text": [
      "+--------------+-------+---------+------+------------+------------+\n",
      "|participant_id|   name|last_name|   age|score_game_1|score_game_2|\n",
      "+--------------+-------+---------+------+------------+------------+\n",
      "|             1|   null|     Lara|  27.0|        89.0|      -100.0|\n",
      "|             2|   Liam|     null|-100.0|        50.0|      -100.0|\n",
      "|             3| Olivia|   Wilson|  25.0|      -100.0|        70.0|\n",
      "|             4|Jackson|     null|  24.0|        98.0|        90.0|\n",
      "|             5|   null|    Moore|  26.0|       100.0|        89.0|\n",
      "|             6| Oliver|     Leon|-100.0|        65.0|        70.0|\n",
      "|             7|  Lucas|    Brown|  24.0|      -100.0|        75.0|\n",
      "|             8|   null|     null|  31.0|        85.0|        79.0|\n",
      "|             9|   Aria| Robinson|-100.0|        80.0|      -100.0|\n",
      "|            10| Amelia|     null|  29.0|      -100.0|        99.0|\n",
      "+--------------+-------+---------+------+------------+------------+\n",
      "\n"
     ]
    }
   ],
   "source": [
    "example_2 = data.fillna(-100, subset=[\"age\", \"score_game_1\", \"score_game_2\"])\n",
    "example_2.show()"
   ]
  },
  {
   "cell_type": "markdown",
   "metadata": {},
   "source": [
    "# Method 3\n",
    "\n",
    "A third way of filling null values in a spark table is to use the method ```na.fill```. In this case we pass the value we want to use to fill the null values, but we do not specify the columns where we want the null values to be filled. Pyspark will fill the null values in all columns where it is possible to fill them with the value that we passed. \n",
    "\n",
    "In the block of code below we will fill null values with the string \"NOT_FOUND\"."
   ]
  },
  {
   "cell_type": "code",
   "execution_count": 6,
   "metadata": {},
   "outputs": [
    {
     "name": "stdout",
     "output_type": "stream",
     "text": [
      "+--------------+---------+---------+----+------------+------------+\n",
      "|participant_id|     name|last_name| age|score_game_1|score_game_2|\n",
      "+--------------+---------+---------+----+------------+------------+\n",
      "|             1|NOT_FOUND|     Lara|27.0|        89.0|         NaN|\n",
      "|             2|     Liam|NOT_FOUND| NaN|        50.0|         NaN|\n",
      "|             3|   Olivia|   Wilson|25.0|         NaN|        70.0|\n",
      "|             4|  Jackson|NOT_FOUND|24.0|        98.0|        90.0|\n",
      "|             5|NOT_FOUND|    Moore|26.0|       100.0|        89.0|\n",
      "|             6|   Oliver|     Leon| NaN|        65.0|        70.0|\n",
      "|             7|    Lucas|    Brown|24.0|         NaN|        75.0|\n",
      "|             8|NOT_FOUND|NOT_FOUND|31.0|        85.0|        79.0|\n",
      "|             9|     Aria| Robinson| NaN|        80.0|         NaN|\n",
      "|            10|   Amelia|NOT_FOUND|29.0|         NaN|        99.0|\n",
      "+--------------+---------+---------+----+------------+------------+\n",
      "\n"
     ]
    }
   ],
   "source": [
    "example_3 = data.na.fill(\"NOT_FOUND\")\n",
    "example_3.show()"
   ]
  },
  {
   "cell_type": "markdown",
   "metadata": {},
   "source": [
    "# Final Words\n",
    "\n",
    "We went through the basic concepts of how to fill null values using Pyspark. Now it is your turn to start coding. Try the following:\n",
    "* In method 1, try changing the dictionary used to fill the null values.\n",
    "* In method 2, try changing the value used to fill the null values and the list of columns where you want the null values to be filled.\n",
    "* In method 3, try passing a string not a number."
   ]
  },
  {
   "cell_type": "code",
   "execution_count": null,
   "metadata": {},
   "outputs": [],
   "source": []
  }
 ],
 "metadata": {
  "kernelspec": {
   "display_name": "Python 3",
   "language": "python",
   "name": "python3"
  },
  "language_info": {
   "codemirror_mode": {
    "name": "ipython",
    "version": 3
   },
   "file_extension": ".py",
   "mimetype": "text/x-python",
   "name": "python",
   "nbconvert_exporter": "python",
   "pygments_lexer": "ipython3",
   "version": "3.7.3"
  }
 },
 "nbformat": 4,
 "nbformat_minor": 2
}
