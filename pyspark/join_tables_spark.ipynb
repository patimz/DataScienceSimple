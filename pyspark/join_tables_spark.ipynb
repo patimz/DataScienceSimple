{
 "cells": [
  {
   "cell_type": "markdown",
   "metadata": {},
   "source": [
    "# Table joining"
   ]
  },
  {
   "cell_type": "code",
   "execution_count": 1,
   "metadata": {},
   "outputs": [],
   "source": [
    "# Spark related machinery\n",
    "import pyspark\n",
    "import pyspark.sql.functions as F\n",
    "from pyspark import SparkConf\n",
    "from pyspark.sql.types import *\n",
    "from pyspark.sql import SparkSession\n",
    "from pyspark.sql import HiveContext\n",
    "from pyspark.sql.functions import concat_ws\n",
    "\n",
    "spark = pyspark.sql.SparkSession.builder.enableHiveSupport().getOrCreate()"
   ]
  },
  {
   "cell_type": "code",
   "execution_count": 2,
   "metadata": {},
   "outputs": [],
   "source": [
    "from pyspark_functions import create_players_table,\\\n",
    "                              create_new_players_table,\\\n",
    "                              create_ranking_table"
   ]
  },
  {
   "cell_type": "markdown",
   "metadata": {},
   "source": [
    "## Table creation\n",
    "\n",
    "We start by creating some tables, in this case we will have two tables with the information of video game players, and a second table with their rankings:\n",
    "\n",
    "* **players**: Contains the name of the player, how old the player is, the game he/she plays, and the player id\n",
    "* **new_players**: this table is a continuation of the table **players**.\n",
    "* **ranking**: Contains the player’s id, and the player’s ranking"
   ]
  },
  {
   "cell_type": "code",
   "execution_count": 3,
   "metadata": {},
   "outputs": [
    {
     "name": "stdout",
     "output_type": "stream",
     "text": [
      "+-------+---+--------------+---------+\n",
      "|   Name|Age|          Game|Player_id|\n",
      "+-------+---+--------------+---------+\n",
      "|Nicolas| 25|          Doom|        1|\n",
      "| Camila| 23|        Diablo|        2|\n",
      "|Gabriel| 20|   Wolfenstein|        3|\n",
      "|  Mateo| 23|    Zelda BOTW|        4|\n",
      "|   Luna| 21|         Mario|        5|\n",
      "|   Lily| 25|Counter Strike|        6|\n",
      "|  Sofia| 26|     Max Payne|        7|\n",
      "|    Leo| 28|       Fifa 20|        8|\n",
      "| Thomas| 22|         Speed|        9|\n",
      "|  James| 30| Goldeneye 007|       15|\n",
      "+-------+---+--------------+---------+\n",
      "\n",
      "+-----+---+------+---------+\n",
      "| Name|Age|  Game|Player_id|\n",
      "+-----+---+------+---------+\n",
      "|  Mia| 22| Mario|       10|\n",
      "|David| 28|Diablo|       11|\n",
      "|Dylan| 21|  Doom|       12|\n",
      "+-----+---+------+---------+\n",
      "\n",
      "+---------+-------+\n",
      "|Player_id|Ranking|\n",
      "+---------+-------+\n",
      "|        1|      1|\n",
      "|        2|      1|\n",
      "|        3|      4|\n",
      "|        4|      9|\n",
      "|        5|      2|\n",
      "|        6|      3|\n",
      "|        7|     99|\n",
      "|        8|     22|\n",
      "|        9|     12|\n",
      "|       10|    440|\n",
      "|       11|     21|\n",
      "+---------+-------+\n",
      "\n"
     ]
    }
   ],
   "source": [
    "players = create_players_table()\n",
    "new_players = create_new_players_table()\n",
    "ranking = create_ranking_table()\n",
    "\n",
    "players.show()\n",
    "new_players.show()\n",
    "ranking.show()"
   ]
  },
  {
   "cell_type": "markdown",
   "metadata": {},
   "source": [
    "# Inner join\n",
    "\n",
    "Only the keys common to **both** tables are preserved."
   ]
  },
  {
   "cell_type": "code",
   "execution_count": 4,
   "metadata": {},
   "outputs": [
    {
     "name": "stdout",
     "output_type": "stream",
     "text": [
      "+---------+-------+---+--------------+-------+\n",
      "|Player_id|   Name|Age|          Game|Ranking|\n",
      "+---------+-------+---+--------------+-------+\n",
      "|        1|Nicolas| 25|          Doom|      1|\n",
      "|        2| Camila| 23|        Diablo|      1|\n",
      "|        3|Gabriel| 20|   Wolfenstein|      4|\n",
      "|        4|  Mateo| 23|    Zelda BOTW|      9|\n",
      "|        5|   Luna| 21|         Mario|      2|\n",
      "|        6|   Lily| 25|Counter Strike|      3|\n",
      "|        7|  Sofia| 26|     Max Payne|     99|\n",
      "|        8|    Leo| 28|       Fifa 20|     22|\n",
      "|        9| Thomas| 22|         Speed|     12|\n",
      "+---------+-------+---+--------------+-------+\n",
      "\n"
     ]
    }
   ],
   "source": [
    "players_ranking_inner = players.join(ranking, on=\"Player_id\", how=\"inner\")\n",
    "\n",
    "players_ranking_inner.sort(\"Player_id\").show()"
   ]
  },
  {
   "cell_type": "markdown",
   "metadata": {},
   "source": [
    "# Left join example\n",
    "\n",
    "All the keys on the **left table** (the first table) are preserved."
   ]
  },
  {
   "cell_type": "code",
   "execution_count": 5,
   "metadata": {},
   "outputs": [
    {
     "name": "stdout",
     "output_type": "stream",
     "text": [
      "+---------+-------+---+--------------+-------+\n",
      "|Player_id|   Name|Age|          Game|Ranking|\n",
      "+---------+-------+---+--------------+-------+\n",
      "|        1|Nicolas| 25|          Doom|      1|\n",
      "|        2| Camila| 23|        Diablo|      1|\n",
      "|        3|Gabriel| 20|   Wolfenstein|      4|\n",
      "|        4|  Mateo| 23|    Zelda BOTW|      9|\n",
      "|        5|   Luna| 21|         Mario|      2|\n",
      "|        6|   Lily| 25|Counter Strike|      3|\n",
      "|        7|  Sofia| 26|     Max Payne|     99|\n",
      "|        8|    Leo| 28|       Fifa 20|     22|\n",
      "|        9| Thomas| 22|         Speed|     12|\n",
      "|       15|  James| 30| Goldeneye 007|   null|\n",
      "+---------+-------+---+--------------+-------+\n",
      "\n"
     ]
    }
   ],
   "source": [
    "ranking_players_left = players.join(ranking, on=\"Player_id\", how=\"left\")\n",
    "\n",
    "ranking_players_left.sort(\"Player_id\").show()"
   ]
  },
  {
   "cell_type": "markdown",
   "metadata": {},
   "source": [
    "# Outer join Example\n",
    "All the keys in **both** tables are preseved."
   ]
  },
  {
   "cell_type": "code",
   "execution_count": 6,
   "metadata": {},
   "outputs": [
    {
     "name": "stdout",
     "output_type": "stream",
     "text": [
      "+---------+-------+----+--------------+-------+\n",
      "|Player_id|   Name| Age|          Game|Ranking|\n",
      "+---------+-------+----+--------------+-------+\n",
      "|        1|Nicolas|  25|          Doom|      1|\n",
      "|        2| Camila|  23|        Diablo|      1|\n",
      "|        3|Gabriel|  20|   Wolfenstein|      4|\n",
      "|        4|  Mateo|  23|    Zelda BOTW|      9|\n",
      "|        5|   Luna|  21|         Mario|      2|\n",
      "|        6|   Lily|  25|Counter Strike|      3|\n",
      "|        7|  Sofia|  26|     Max Payne|     99|\n",
      "|        8|    Leo|  28|       Fifa 20|     22|\n",
      "|        9| Thomas|  22|         Speed|     12|\n",
      "|       10|   null|null|          null|    440|\n",
      "|       11|   null|null|          null|     21|\n",
      "|       15|  James|  30| Goldeneye 007|   null|\n",
      "+---------+-------+----+--------------+-------+\n",
      "\n"
     ]
    }
   ],
   "source": [
    "ranking_players_outer = players.join(ranking, on=\"Player_id\", how=\"outer\")\n",
    "\n",
    "#Sort the table by player_id and print it\n",
    "ranking_players_outer.sort(\"Player_id\").show()"
   ]
  },
  {
   "cell_type": "markdown",
   "metadata": {},
   "source": [
    "# Left anti join example\n",
    "Only the keys of the left table (the first table) that are not present in the second table are preserved:"
   ]
  },
  {
   "cell_type": "code",
   "execution_count": 7,
   "metadata": {},
   "outputs": [
    {
     "name": "stdout",
     "output_type": "stream",
     "text": [
      "+---------+-----+---+-------------+\n",
      "|Player_id| Name|Age|         Game|\n",
      "+---------+-----+---+-------------+\n",
      "|       15|James| 30|Goldeneye 007|\n",
      "+---------+-----+---+-------------+\n",
      "\n"
     ]
    }
   ],
   "source": [
    "ranking_players_left_anti = players.join(ranking, on=\"Player_id\", how=\"left_anti\")\n",
    "\n",
    "ranking_players_left_anti.show()"
   ]
  },
  {
   "cell_type": "markdown",
   "metadata": {},
   "source": [
    "# Union tables\n",
    "Sometimes you have a dataset split into two tables, as in the case of the **players** and **new_players** tables, and you want to \"union\" them (put one after the other). This is done as follows:"
   ]
  },
  {
   "cell_type": "code",
   "execution_count": 8,
   "metadata": {},
   "outputs": [
    {
     "name": "stdout",
     "output_type": "stream",
     "text": [
      "+-------+---+--------------+---------+\n",
      "|   Name|Age|          Game|Player_id|\n",
      "+-------+---+--------------+---------+\n",
      "|Nicolas| 25|          Doom|        1|\n",
      "| Camila| 23|        Diablo|        2|\n",
      "|Gabriel| 20|   Wolfenstein|        3|\n",
      "|  Mateo| 23|    Zelda BOTW|        4|\n",
      "|   Luna| 21|         Mario|        5|\n",
      "|   Lily| 25|Counter Strike|        6|\n",
      "|  Sofia| 26|     Max Payne|        7|\n",
      "|    Leo| 28|       Fifa 20|        8|\n",
      "| Thomas| 22|         Speed|        9|\n",
      "|    Mia| 22|         Mario|       10|\n",
      "|  David| 28|        Diablo|       11|\n",
      "|  Dylan| 21|          Doom|       12|\n",
      "|  James| 30| Goldeneye 007|       15|\n",
      "+-------+---+--------------+---------+\n",
      "\n"
     ]
    }
   ],
   "source": [
    "#List with the name of the columns\n",
    "cols = players.columns\n",
    "\n",
    "#Union\n",
    "full_players = players.union(new_players.select(cols))\n",
    "\n",
    "#Print to screen the new table\n",
    "full_players.sort(\"Player_id\").show()"
   ]
  },
  {
   "cell_type": "code",
   "execution_count": 9,
   "metadata": {},
   "outputs": [
    {
     "name": "stdout",
     "output_type": "stream",
     "text": [
      "+-------+---+--------------+---------+\n",
      "|   Name|Age|          Game|Player_id|\n",
      "+-------+---+--------------+---------+\n",
      "|Nicolas| 25|          Doom|        1|\n",
      "| Camila| 23|        Diablo|        2|\n",
      "|Gabriel| 20|   Wolfenstein|        3|\n",
      "|  Mateo| 23|    Zelda BOTW|        4|\n",
      "|   Luna| 21|         Mario|        5|\n",
      "|   Lily| 25|Counter Strike|        6|\n",
      "|  Sofia| 26|     Max Payne|        7|\n",
      "|    Leo| 28|       Fifa 20|        8|\n",
      "| Thomas| 22|         Speed|        9|\n",
      "|  James| 30| Goldeneye 007|       15|\n",
      "|    Mia| 22|            10|    Mario|\n",
      "|  David| 28|            11|   Diablo|\n",
      "|  Dylan| 21|            12|     Doom|\n",
      "+-------+---+--------------+---------+\n",
      "\n"
     ]
    }
   ],
   "source": [
    "players.union(new_players.select([\"Name\", \"Age\", \"Player_id\", \"Game\"])).show()"
   ]
  },
  {
   "cell_type": "code",
   "execution_count": null,
   "metadata": {},
   "outputs": [],
   "source": []
  }
 ],
 "metadata": {
  "kernelspec": {
   "display_name": "Python 3",
   "language": "python",
   "name": "python3"
  },
  "language_info": {
   "codemirror_mode": {
    "name": "ipython",
    "version": 3
   },
   "file_extension": ".py",
   "mimetype": "text/x-python",
   "name": "python",
   "nbconvert_exporter": "python",
   "pygments_lexer": "ipython3",
   "version": "3.7.3"
  }
 },
 "nbformat": 4,
 "nbformat_minor": 2
}
