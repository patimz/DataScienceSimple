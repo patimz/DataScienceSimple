{
 "cells": [
  {
   "attachments": {},
   "cell_type": "markdown",
   "metadata": {},
   "source": [
    "# Table joining\n",
    "Joining tables is part of the daily life of data scientists. In this notebook you will learn how joins and unions work. We start by importing the required pyspark machinery and some other functions we will use to create the tables."
   ]
  },
  {
   "cell_type": "code",
   "execution_count": 2,
   "metadata": {},
   "outputs": [],
   "source": [
    "# Spark related machinery\n",
    "import pyspark\n",
    "import pyspark.sql.functions as F\n",
    "from pyspark import SparkConf\n",
    "from pyspark.sql.types import *\n",
    "from pyspark.sql import SparkSession\n",
    "from pyspark.sql import HiveContext\n",
    "from pyspark.sql.functions import concat_ws\n",
    "\n",
    "spark = pyspark.sql.SparkSession.builder.enableHiveSupport().getOrCreate()"
   ]
  },
  {
   "cell_type": "code",
   "execution_count": 3,
   "metadata": {},
   "outputs": [],
   "source": [
    "from pyspark_functions import create_players_table,\\\n",
    "                              create_new_players_table,\\\n",
    "                              create_ranking_table"
   ]
  },
  {
   "cell_type": "markdown",
   "metadata": {},
   "source": [
    "## Table creation\n",
    "\n",
    "We start by creating some tables, in this case we will have two tables with the information of video game players, and a second table with their rankings:\n",
    "\n",
    "* **players**: Contains the name of the player, how old the player is, the game he/she plays, and the player id\n",
    "* **new_players**: this table is a continuation of the table players, it has the same columns \n",
    "* **ranking**: Contains the player’s id, and the player’s ranking\n",
    "\n",
    "Below we create and use the method ```show()``` to print the tables:"
   ]
  },
  {
   "cell_type": "code",
   "execution_count": 4,
   "metadata": {},
   "outputs": [
    {
     "name": "stdout",
     "output_type": "stream",
     "text": [
      "+-------+---+--------------+---------+\n",
      "|   Name|Age|          Game|Player_id|\n",
      "+-------+---+--------------+---------+\n",
      "|Nicolas| 25|          Doom|        1|\n",
      "| Camila| 23|        Diablo|        2|\n",
      "|Gabriel| 20|   Wolfenstein|        3|\n",
      "|  Mateo| 23|    Zelda BOTW|        4|\n",
      "|   Luna| 21|         Mario|        5|\n",
      "|   Lily| 25|Counter Strike|        6|\n",
      "|  Sofia| 26|     Max Payne|        7|\n",
      "|    Leo| 28|       Fifa 20|        8|\n",
      "| Thomas| 22|         Speed|        9|\n",
      "|  James| 30| Goldeneye 007|       15|\n",
      "+-------+---+--------------+---------+\n",
      "\n",
      "+-----+---+------+---------+\n",
      "| Name|Age|  Game|Player_id|\n",
      "+-----+---+------+---------+\n",
      "|  Mia| 22| Mario|       10|\n",
      "|David| 28|Diablo|       11|\n",
      "|Dylan| 21|  Doom|       12|\n",
      "+-----+---+------+---------+\n",
      "\n",
      "+---------+-------+\n",
      "|Player_id|Ranking|\n",
      "+---------+-------+\n",
      "|        1|      1|\n",
      "|        2|      1|\n",
      "|        3|      4|\n",
      "|        4|      9|\n",
      "|        5|      2|\n",
      "|        6|      3|\n",
      "|        7|     99|\n",
      "|        8|     22|\n",
      "|        9|     12|\n",
      "|       10|    440|\n",
      "|       11|     21|\n",
      "+---------+-------+\n",
      "\n"
     ]
    }
   ],
   "source": [
    "players = create_players_table()\n",
    "new_players = create_new_players_table()\n",
    "ranking = create_ranking_table()\n",
    "\n",
    "players.show()\n",
    "new_players.show()\n",
    "ranking.show()"
   ]
  },
  {
   "cell_type": "markdown",
   "metadata": {},
   "source": [
    "Ok, we have the tables ready. By now you should have notice that the new_players table is just a continuation of the players table and also that the column Player_id is common to all 3 tables. Therefore, we will be joining the tables **ranking** and **players**, while we will union **players** and **new_players**.\n",
    "\n",
    "# Inner join example\n",
    "In the inner join only the elements common to both tables are preserved. As an example we will be joining the tables **players** and **ranking**:"
   ]
  },
  {
   "cell_type": "code",
   "execution_count": 5,
   "metadata": {},
   "outputs": [
    {
     "name": "stdout",
     "output_type": "stream",
     "text": [
      "+---------+-------+---+--------------+-------+\n",
      "|Player_id|   Name|Age|          Game|Ranking|\n",
      "+---------+-------+---+--------------+-------+\n",
      "|        1|Nicolas| 25|          Doom|      1|\n",
      "|        2| Camila| 23|        Diablo|      1|\n",
      "|        3|Gabriel| 20|   Wolfenstein|      4|\n",
      "|        4|  Mateo| 23|    Zelda BOTW|      9|\n",
      "|        5|   Luna| 21|         Mario|      2|\n",
      "|        6|   Lily| 25|Counter Strike|      3|\n",
      "|        7|  Sofia| 26|     Max Payne|     99|\n",
      "|        8|    Leo| 28|       Fifa 20|     22|\n",
      "|        9| Thomas| 22|         Speed|     12|\n",
      "+---------+-------+---+--------------+-------+\n",
      "\n"
     ]
    }
   ],
   "source": [
    "#The join\n",
    "players_ranking_inner = players.join(ranking, on=\"Player_id\", how=\"inner\")\n",
    "\n",
    "#sort the table by player_id and print it\n",
    "players_ranking_inner.sort(\"Player_id\").show()"
   ]
  },
  {
   "cell_type": "markdown",
   "metadata": {},
   "source": [
    "As you can see we are missing the rows where player_id = 10, 11, 15."
   ]
  },
  {
   "cell_type": "markdown",
   "metadata": {},
   "source": [
    "# Left join example\n",
    "\n",
    "In the left join only the elements of the left table (the first table) are preserved, and for the cases where the joining key is not found in the right table, the new columns (the ones in comming from the right table) are filled with null values."
   ]
  },
  {
   "cell_type": "code",
   "execution_count": 7,
   "metadata": {},
   "outputs": [
    {
     "name": "stdout",
     "output_type": "stream",
     "text": [
      "+---------+-------+-------+----+--------------+\n",
      "|Player_id|Ranking|   Name| Age|          Game|\n",
      "+---------+-------+-------+----+--------------+\n",
      "|        1|      1|Nicolas|  25|          Doom|\n",
      "|        2|      1| Camila|  23|        Diablo|\n",
      "|        3|      4|Gabriel|  20|   Wolfenstein|\n",
      "|        4|      9|  Mateo|  23|    Zelda BOTW|\n",
      "|        5|      2|   Luna|  21|         Mario|\n",
      "|        6|      3|   Lily|  25|Counter Strike|\n",
      "|        7|     99|  Sofia|  26|     Max Payne|\n",
      "|        8|     22|    Leo|  28|       Fifa 20|\n",
      "|        9|     12| Thomas|  22|         Speed|\n",
      "|       10|    440|   null|null|          null|\n",
      "|       11|     21|   null|null|          null|\n",
      "+---------+-------+-------+----+--------------+\n",
      "\n"
     ]
    }
   ],
   "source": [
    "#The join\n",
    "ranking_players_left = ranking.join(players, on=\"Player_id\", how=\"left\")\n",
    "\n",
    "#Sort the table by player_id and print it\n",
    "ranking_players_left.sort(\"Player_id\").show()"
   ]
  },
  {
   "cell_type": "markdown",
   "metadata": {},
   "source": [
    "As you can see, all the elements from the table ranking were preserved. causing the last two rows to be fill with **null** values for the column **Name**, **Age**, and **Game**."
   ]
  },
  {
   "attachments": {},
   "cell_type": "markdown",
   "metadata": {},
   "source": [
    "# Outer join Example\n",
    "In the outer join all the keys in both tables are preseved. This means that the columns for which the joining key is not in both tables are filled with null values. In the following block of code we show an example:"
   ]
  },
  {
   "cell_type": "code",
   "execution_count": 6,
   "metadata": {},
   "outputs": [
    {
     "name": "stdout",
     "output_type": "stream",
     "text": [
      "+---------+-------+-------+----+--------------+\n",
      "|Player_id|Ranking|   Name| Age|          Game|\n",
      "+---------+-------+-------+----+--------------+\n",
      "|        1|      1|Nicolas|  25|          Doom|\n",
      "|        2|      1| Camila|  23|        Diablo|\n",
      "|        3|      4|Gabriel|  20|   Wolfenstein|\n",
      "|        4|      9|  Mateo|  23|    Zelda BOTW|\n",
      "|        5|      2|   Luna|  21|         Mario|\n",
      "|        6|      3|   Lily|  25|Counter Strike|\n",
      "|        7|     99|  Sofia|  26|     Max Payne|\n",
      "|        8|     22|    Leo|  28|       Fifa 20|\n",
      "|        9|     12| Thomas|  22|         Speed|\n",
      "|       10|    440|   null|null|          null|\n",
      "|       11|     21|   null|null|          null|\n",
      "|       15|   null|  James|  30| Goldeneye 007|\n",
      "+---------+-------+-------+----+--------------+\n",
      "\n"
     ]
    }
   ],
   "source": [
    "#The join\n",
    "ranking_players_outer = ranking.join(players, on=\"Player_id\", how=\"outer\")\n",
    "\n",
    "#Sort the table by player_id and print it\n",
    "ranking_players_outer.sort(\"Player_id\").show()"
   ]
  },
  {
   "cell_type": "markdown",
   "metadata": {},
   "source": [
    "As you can see only the rows where player_id = 10, 11, and 15 contain null values in the some of the columns (these player ids are not commun to both tables)."
   ]
  },
  {
   "cell_type": "markdown",
   "metadata": {},
   "source": [
    "# Left anti join example\n",
    "In a left anti join only the keys of the left table (the first table) that are not present in the second table are preserved:"
   ]
  },
  {
   "cell_type": "code",
   "execution_count": 8,
   "metadata": {},
   "outputs": [
    {
     "name": "stdout",
     "output_type": "stream",
     "text": [
      "+---------+-----+---+-------------+\n",
      "|Player_id| Name|Age|         Game|\n",
      "+---------+-----+---+-------------+\n",
      "|       15|James| 30|Goldeneye 007|\n",
      "+---------+-----+---+-------------+\n",
      "\n"
     ]
    }
   ],
   "source": [
    "#The join\n",
    "ranking_players_left_anti = players.join(ranking, on=\"Player_id\", how=\"left_anti\")\n",
    "\n",
    "#Print the table\n",
    "ranking_players_left_anti.show()"
   ]
  },
  {
   "cell_type": "markdown",
   "metadata": {},
   "source": [
    "As you can see we end up with only one row. Player_id = 15 is in the table **players** but not in the table **ranking**."
   ]
  },
  {
   "cell_type": "markdown",
   "metadata": {},
   "source": [
    "# Union tables\n",
    "Sometimes you have a dataset split into two tables, as in the case of the **players** and **new_players** tables, and you want to \"union\" them (put one after the other). This is done as follows:"
   ]
  },
  {
   "cell_type": "code",
   "execution_count": 10,
   "metadata": {},
   "outputs": [
    {
     "name": "stdout",
     "output_type": "stream",
     "text": [
      "+-------+---+--------------+---------+\n",
      "|   Name|Age|          Game|Player_id|\n",
      "+-------+---+--------------+---------+\n",
      "|Nicolas| 25|          Doom|        1|\n",
      "| Camila| 23|        Diablo|        2|\n",
      "|Gabriel| 20|   Wolfenstein|        3|\n",
      "|  Mateo| 23|    Zelda BOTW|        4|\n",
      "|   Luna| 21|         Mario|        5|\n",
      "|   Lily| 25|Counter Strike|        6|\n",
      "|  Sofia| 26|     Max Payne|        7|\n",
      "|    Leo| 28|       Fifa 20|        8|\n",
      "| Thomas| 22|         Speed|        9|\n",
      "|    Mia| 22|         Mario|       10|\n",
      "|  David| 28|        Diablo|       11|\n",
      "|  Dylan| 21|          Doom|       12|\n",
      "|  James| 30| Goldeneye 007|       15|\n",
      "+-------+---+--------------+---------+\n",
      "\n"
     ]
    }
   ],
   "source": [
    "#List with the name of the columns\n",
    "cols = players.columns\n",
    "\n",
    "#Union\n",
    "full_players = players.union(new_players.select(cols))\n",
    "\n",
    "#Print to screen the new table\n",
    "full_players.sort(\"Player_id\").show()"
   ]
  },
  {
   "cell_type": "markdown",
   "metadata": {},
   "source": [
    "In the first line we are creating a list with the name of the columns in the table players, while the second line is where the union takes place. It is important to notice that we select the columns of the table **players** in the table **new_players** (second line). The reason for this is to ensure that the order of the columns is the same in both tables when the union takes place. If the columns are not in the same order on both tables, the union won't error and you will end up having a table with the columns mixed (see below). While this is very easy to spot in a small table, it is not so easy to spot when you have a couple million rows."
   ]
  },
  {
   "cell_type": "code",
   "execution_count": 12,
   "metadata": {},
   "outputs": [
    {
     "name": "stdout",
     "output_type": "stream",
     "text": [
      "+-------+---+--------------+---------+\n",
      "|   Name|Age|          Game|Player_id|\n",
      "+-------+---+--------------+---------+\n",
      "|Nicolas| 25|          Doom|        1|\n",
      "| Camila| 23|        Diablo|        2|\n",
      "|Gabriel| 20|   Wolfenstein|        3|\n",
      "|  Mateo| 23|    Zelda BOTW|        4|\n",
      "|   Luna| 21|         Mario|        5|\n",
      "|   Lily| 25|Counter Strike|        6|\n",
      "|  Sofia| 26|     Max Payne|        7|\n",
      "|    Leo| 28|       Fifa 20|        8|\n",
      "| Thomas| 22|         Speed|        9|\n",
      "|  James| 30| Goldeneye 007|       15|\n",
      "|    Mia| 22|            10|    Mario|\n",
      "|  David| 28|            11|   Diablo|\n",
      "|  Dylan| 21|            12|     Doom|\n",
      "+-------+---+--------------+---------+\n",
      "\n"
     ]
    }
   ],
   "source": [
    "players.union(new_players.select([\"Name\", \"Age\", \"Player_id\", \"Game\"])).show()"
   ]
  },
  {
   "cell_type": "markdown",
   "metadata": {},
   "source": [
    "## Final words\n",
    "\n",
    "Ok, now you know the basic tools to join and union tables. Now is your time to start coding!. You can start by changing the order of the tables in the left join."
   ]
  },
  {
   "cell_type": "code",
   "execution_count": null,
   "metadata": {},
   "outputs": [],
   "source": []
  }
 ],
 "metadata": {
  "kernelspec": {
   "display_name": "Python 3",
   "language": "python",
   "name": "python3"
  },
  "language_info": {
   "codemirror_mode": {
    "name": "ipython",
    "version": 3
   },
   "file_extension": ".py",
   "mimetype": "text/x-python",
   "name": "python",
   "nbconvert_exporter": "python",
   "pygments_lexer": "ipython3",
   "version": "3.7.3"
  }
 },
 "nbformat": 4,
 "nbformat_minor": 2
}
