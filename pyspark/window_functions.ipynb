{
 "cells": [
  {
   "attachments": {},
   "cell_type": "markdown",
   "metadata": {},
   "source": [
    "# Window Functions\n",
    "\n",
    "The purpose of this notebook is to give you a basic understanding of how window functions work in Pyspark.\n",
    "\n",
    "We will start by importing all of the Pyspark machinery and a function that generates a dummy table:"
   ]
  },
  {
   "cell_type": "code",
   "execution_count": 1,
   "metadata": {},
   "outputs": [],
   "source": [
    "# Spark related machinery\n",
    "import pyspark\n",
    "import pyspark.sql.functions as F\n",
    "from pyspark import SparkConf\n",
    "from pyspark.sql.types import *\n",
    "from pyspark.sql import SparkSession, HiveContext, Window\n",
    "from pyspark.sql.functions import concat_ws\n",
    "\n",
    "spark = pyspark.sql.SparkSession.builder.enableHiveSupport().getOrCreate()"
   ]
  },
  {
   "cell_type": "code",
   "execution_count": 2,
   "metadata": {},
   "outputs": [],
   "source": [
    "#Import function\n",
    "from pyspark_functions import create_sp_table3"
   ]
  },
  {
   "cell_type": "markdown",
   "metadata": {},
   "source": [
    "In the following block of code we create a table called **data** using the function ```create_sp_table3```. The table has 3 columns: \n",
    "* **id**: Numbers from 1 to 5\n",
    "* **team**: Numbers from 1 to 3 \n",
    "* **score**: Numbers from 0 to 100\n",
    "\n",
    "Then, we will print it to screen sorted by the column **id**:"
   ]
  },
  {
   "cell_type": "code",
   "execution_count": 3,
   "metadata": {},
   "outputs": [
    {
     "name": "stdout",
     "output_type": "stream",
     "text": [
      "+---+----+-----+\n",
      "| id|team|score|\n",
      "+---+----+-----+\n",
      "|  1|   3|   44|\n",
      "|  1|   3|   44|\n",
      "|  1|   2|    8|\n",
      "|  1|   1|   54|\n",
      "|  2|   3|   41|\n",
      "|  2|   1|   67|\n",
      "|  2|   1|   52|\n",
      "|  3|   3|   71|\n",
      "|  3|   3|   38|\n",
      "|  3|   3|    7|\n",
      "|  4|   2|   69|\n",
      "|  4|   1|   61|\n",
      "|  4|   3|   58|\n",
      "|  4|   3|   45|\n",
      "|  4|   1|   91|\n",
      "|  5|   1|   11|\n",
      "|  5|   2|   54|\n",
      "|  5|   3|   83|\n",
      "|  5|   3|   22|\n",
      "|  5|   2|   67|\n",
      "+---+----+-----+\n",
      "\n"
     ]
    }
   ],
   "source": [
    "#Create table\n",
    "data = create_sp_table3()\n",
    "\n",
    "#print table dorted by id\n",
    "data.sort(\"id\").show()"
   ]
  },
  {
   "cell_type": "markdown",
   "metadata": {},
   "source": [
    "In the **id** column we have several rows sharing the same value. In other words, the values of the column **id** are not unique. In the block of code below, using window functions, we will create the following 3 new columns:\n",
    "\n",
    "* high_score: for each id, the highest score achieved\n",
    "* low_score: for each id, the lowest score achieved\n",
    "* mean_score: for each id, the average score achieved\n"
   ]
  },
  {
   "cell_type": "code",
   "execution_count": 4,
   "metadata": {},
   "outputs": [
    {
     "name": "stdout",
     "output_type": "stream",
     "text": [
      "+---+----+-----+----------+---------+------------------+\n",
      "| id|team|score|high_score|low_score|        mean_score|\n",
      "+---+----+-----+----------+---------+------------------+\n",
      "|  1|   2|    8|        54|        8|              37.5|\n",
      "|  1|   1|   54|        54|        8|              37.5|\n",
      "|  1|   3|   44|        54|        8|              37.5|\n",
      "|  1|   3|   44|        54|        8|              37.5|\n",
      "|  2|   3|   41|        67|       41|53.333333333333336|\n",
      "|  2|   1|   67|        67|       41|53.333333333333336|\n",
      "|  2|   1|   52|        67|       41|53.333333333333336|\n",
      "|  3|   3|   71|        71|        7|38.666666666666664|\n",
      "|  3|   3|    7|        71|        7|38.666666666666664|\n",
      "|  3|   3|   38|        71|        7|38.666666666666664|\n",
      "|  4|   1|   91|        91|       45|              64.8|\n",
      "|  4|   2|   69|        91|       45|              64.8|\n",
      "|  4|   1|   61|        91|       45|              64.8|\n",
      "|  4|   3|   58|        91|       45|              64.8|\n",
      "|  4|   3|   45|        91|       45|              64.8|\n",
      "|  5|   2|   67|        83|       11|              47.4|\n",
      "|  5|   1|   11|        83|       11|              47.4|\n",
      "|  5|   2|   54|        83|       11|              47.4|\n",
      "|  5|   3|   83|        83|       11|              47.4|\n",
      "|  5|   3|   22|        83|       11|              47.4|\n",
      "+---+----+-----+----------+---------+------------------+\n",
      "\n"
     ]
    }
   ],
   "source": [
    "#Define Window where we partinion the table by the column id\n",
    "w = Window.partitionBy(\"id\")\n",
    "\n",
    "#Create column with the highest score for each id\n",
    "data = data.withColumn(\"high_score\", F.max(\"score\").over(w))\n",
    "\n",
    "#Create column with the lowest score for each id\n",
    "data = data.withColumn(\"low_score\", F.min(\"score\").over(w))\n",
    "\n",
    "#Create column with the mean score for each id\n",
    "data = data.withColumn(\"mean_score\", F.mean(\"score\").over(w))\n",
    "\n",
    "#Print table sorted by id\n",
    "data.sort(\"id\").show()"
   ]
  },
  {
   "cell_type": "markdown",
   "metadata": {},
   "source": [
    "The first line of code above defines the window, in this case a partition by the column **id**. The following 3 lines of code create the new columns using the same recipe:\n",
    "\n",
    "1. Create the a new column using the method ```.withColumn()```.\n",
    "2. The method ```.withColumn()``` takes the name of the new column and the function used to create the new column.\n",
    "3. We use ```max()```, ```min()```, and ```mean()``` as our functions over the window that we defined earlier, in this case over the group of rows sharing the same value for the column **id**.\n",
    "\n",
    "As expected all rows sharing the same id value, also share the same value for the new created columns.\n",
    "\n",
    "# Window Partitioning by One Column and Ordering by Other\n",
    "\n",
    "In this last example we will show how to create a new column **team_list** where for each **id** we will store all the values in the column **team** as an ordered list."
   ]
  },
  {
   "cell_type": "code",
   "execution_count": 5,
   "metadata": {},
   "outputs": [
    {
     "name": "stdout",
     "output_type": "stream",
     "text": [
      "+---+----+-----+----------+---------+------------------+---------------+\n",
      "| id|team|score|high_score|low_score|        mean_score|      team_list|\n",
      "+---+----+-----+----------+---------+------------------+---------------+\n",
      "|  1|   1|   54|        54|        8|              37.5|   [1, 2, 3, 3]|\n",
      "|  1|   2|    8|        54|        8|              37.5|   [1, 2, 3, 3]|\n",
      "|  1|   3|   44|        54|        8|              37.5|   [1, 2, 3, 3]|\n",
      "|  1|   3|   44|        54|        8|              37.5|   [1, 2, 3, 3]|\n",
      "|  2|   1|   52|        67|       41|53.333333333333336|      [1, 1, 3]|\n",
      "|  2|   1|   67|        67|       41|53.333333333333336|      [1, 1, 3]|\n",
      "|  2|   3|   41|        67|       41|53.333333333333336|      [1, 1, 3]|\n",
      "|  3|   3|   71|        71|        7|38.666666666666664|      [3, 3, 3]|\n",
      "|  3|   3|    7|        71|        7|38.666666666666664|      [3, 3, 3]|\n",
      "|  3|   3|   38|        71|        7|38.666666666666664|      [3, 3, 3]|\n",
      "|  4|   1|   61|        91|       45|              64.8|[1, 1, 2, 3, 3]|\n",
      "|  4|   1|   91|        91|       45|              64.8|[1, 1, 2, 3, 3]|\n",
      "|  4|   2|   69|        91|       45|              64.8|[1, 1, 2, 3, 3]|\n",
      "|  4|   3|   58|        91|       45|              64.8|[1, 1, 2, 3, 3]|\n",
      "|  4|   3|   45|        91|       45|              64.8|[1, 1, 2, 3, 3]|\n",
      "|  5|   1|   11|        83|       11|              47.4|[1, 2, 2, 3, 3]|\n",
      "|  5|   2|   67|        83|       11|              47.4|[1, 2, 2, 3, 3]|\n",
      "|  5|   2|   54|        83|       11|              47.4|[1, 2, 2, 3, 3]|\n",
      "|  5|   3|   22|        83|       11|              47.4|[1, 2, 2, 3, 3]|\n",
      "|  5|   3|   83|        83|       11|              47.4|[1, 2, 2, 3, 3]|\n",
      "+---+----+-----+----------+---------+------------------+---------------+\n",
      "\n"
     ]
    }
   ],
   "source": [
    "#Define window\n",
    "w2 = Window.partitionBy(\"id\").orderBy(\"team\").rangeBetween(Window.unboundedPreceding, Window.unboundedFollowing)\n",
    "\n",
    "#Create column with list of teams (order)\n",
    "data = data.withColumn(\"team_list\", F.collect_list(\"team\").over(w2))\n",
    "\n",
    "data.sort(\"id\", \"team\").show()"
   ]
  },
  {
   "cell_type": "markdown",
   "metadata": {},
   "source": [
    "As expected, the first line of code creates the new window following the same format as before. However, now we are ordering by the column **team** (```.orderBy(\"team\")```), and we are adding ```.rangeBetween(Window.unboundedPreceding, Window.unboundedFollowing)``` to the line of code.  This last part allow us to grab all **team** values and store them in the list, try to remove it and run the code again to see what happens. \n",
    "\n",
    "# Final Words\n",
    "We went over the basics of how to create and use window functions in pyspark. Now it is your turn to start coding, try to create different windows by partitioning over other column (maybe **team**), or by using other functions to create the new column such as: \n",
    "* ``avg()``\n",
    "* ```count()```\n",
    "* ``` row_number``` (in this one your window would have to look something like: ```Window.partitionBy(\"a column\").orderBy(\"another column\")```)."
   ]
  },
  {
   "cell_type": "code",
   "execution_count": null,
   "metadata": {},
   "outputs": [],
   "source": []
  }
 ],
 "metadata": {
  "kernelspec": {
   "display_name": "Python 3",
   "language": "python",
   "name": "python3"
  },
  "language_info": {
   "codemirror_mode": {
    "name": "ipython",
    "version": 3
   },
   "file_extension": ".py",
   "mimetype": "text/x-python",
   "name": "python",
   "nbconvert_exporter": "python",
   "pygments_lexer": "ipython3",
   "version": "3.7.3"
  }
 },
 "nbformat": 4,
 "nbformat_minor": 2
}
