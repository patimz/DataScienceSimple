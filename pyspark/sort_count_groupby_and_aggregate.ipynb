{
 "cells": [
  {
   "cell_type": "markdown",
   "metadata": {},
   "source": [
    "# Sort, Count, Group By and Aggregate\n",
    "In this notebook we will go over how sort, count group by and aggregate works in Pyspark.\n",
    "\n",
    "\n",
    "\n",
    "We will start by importing the pyspark machinery and a helper function that creates the table we will be using."
   ]
  },
  {
   "cell_type": "code",
   "execution_count": 1,
   "metadata": {},
   "outputs": [],
   "source": [
    "# Spark related machinery\n",
    "import pyspark\n",
    "import pyspark.sql.functions as F\n",
    "from pyspark import SparkConf\n",
    "from pyspark.sql.types import *\n",
    "from pyspark.sql import SparkSession\n",
    "from pyspark.sql import HiveContext\n",
    "from pyspark.sql.functions import concat_ws\n",
    "\n",
    "spark = pyspark.sql.SparkSession.builder.enableHiveSupport().getOrCreate()"
   ]
  },
  {
   "cell_type": "code",
   "execution_count": 2,
   "metadata": {},
   "outputs": [],
   "source": [
    "from pyspark_functions import create_sp_table3"
   ]
  },
  {
   "cell_type": "markdown",
   "metadata": {},
   "source": [
    "In the block of code below we create and show the first 5 rows of the table ```data```. This table has 20 rows and 3 columns: **id**, **team**, and **score**. Below we show the values that each column can take.\n",
    "\n",
    "* id: Numbers between 1 and 5\n",
    "* team: Numbers between 1 and 3\n",
    "* score: Numbers between 1 and 100"
   ]
  },
  {
   "cell_type": "code",
   "execution_count": 3,
   "metadata": {},
   "outputs": [
    {
     "name": "stdout",
     "output_type": "stream",
     "text": [
      "+---+----+-----+\n",
      "| id|team|score|\n",
      "+---+----+-----+\n",
      "|  1|   3|   53|\n",
      "|  3|   2|   48|\n",
      "|  3|   3|   98|\n",
      "|  1|   2|   65|\n",
      "|  3|   2|   23|\n",
      "+---+----+-----+\n",
      "only showing top 5 rows\n",
      "\n"
     ]
    }
   ],
   "source": [
    "data = create_sp_table3()\n",
    "data.show(5)"
   ]
  },
  {
   "cell_type": "markdown",
   "metadata": {},
   "source": [
    "# Sort\n",
    "You can easily sort a table by the value of one of its columns using the ``` sort``` method. In the block of code below we create a new table called ``` sorted_scores```, where we have sorted the table by the values of the column **score**."
   ]
  },
  {
   "cell_type": "code",
   "execution_count": 4,
   "metadata": {},
   "outputs": [
    {
     "name": "stdout",
     "output_type": "stream",
     "text": [
      "+---+----+-----+\n",
      "| id|team|score|\n",
      "+---+----+-----+\n",
      "|  2|   1|    5|\n",
      "|  5|   1|    7|\n",
      "|  1|   1|    8|\n",
      "|  3|   1|   10|\n",
      "|  2|   1|   12|\n",
      "|  5|   2|   17|\n",
      "|  3|   2|   23|\n",
      "|  3|   3|   26|\n",
      "|  2|   3|   27|\n",
      "|  5|   3|   29|\n",
      "|  5|   2|   43|\n",
      "|  3|   2|   48|\n",
      "|  1|   3|   53|\n",
      "|  2|   3|   54|\n",
      "|  1|   2|   65|\n",
      "|  2|   2|   67|\n",
      "|  4|   3|   70|\n",
      "|  1|   3|   79|\n",
      "|  5|   1|   80|\n",
      "|  3|   3|   98|\n",
      "+---+----+-----+\n",
      "\n"
     ]
    }
   ],
   "source": [
    "sorted_scores = data.sort(\"score\")\n",
    "sorted_scores.show()"
   ]
  },
  {
   "cell_type": "markdown",
   "metadata": {},
   "source": [
    "As you can see, the sorting took place in ascending order. We can also sort it in descending order by setting ```ascending=False```. See below:"
   ]
  },
  {
   "cell_type": "code",
   "execution_count": 5,
   "metadata": {},
   "outputs": [
    {
     "name": "stdout",
     "output_type": "stream",
     "text": [
      "+---+----+-----+\n",
      "| id|team|score|\n",
      "+---+----+-----+\n",
      "|  3|   3|   98|\n",
      "|  5|   1|   80|\n",
      "|  1|   3|   79|\n",
      "|  4|   3|   70|\n",
      "|  2|   2|   67|\n",
      "|  1|   2|   65|\n",
      "|  2|   3|   54|\n",
      "|  1|   3|   53|\n",
      "|  3|   2|   48|\n",
      "|  5|   2|   43|\n",
      "|  5|   3|   29|\n",
      "|  2|   3|   27|\n",
      "|  3|   3|   26|\n",
      "|  3|   2|   23|\n",
      "|  5|   2|   17|\n",
      "|  2|   1|   12|\n",
      "|  3|   1|   10|\n",
      "|  1|   1|    8|\n",
      "|  5|   1|    7|\n",
      "|  2|   1|    5|\n",
      "+---+----+-----+\n",
      "\n"
     ]
    }
   ],
   "source": [
    "sorted_scores_desc = data.sort(\"score\", ascending=False)\n",
    "sorted_scores_desc.show()"
   ]
  },
  {
   "cell_type": "markdown",
   "metadata": {},
   "source": [
    "# Counting\n",
    "\n",
    "Counting the number of times a value shows up in a column can be very useful. We can find out how many times each value, in a column, shows up using the methods ``` groupby``` and ```count```. As an example in the block of code below we find out how many times each team (1, 2, or  3) shows up in the column **team**."
   ]
  },
  {
   "cell_type": "code",
   "execution_count": 6,
   "metadata": {},
   "outputs": [
    {
     "name": "stdout",
     "output_type": "stream",
     "text": [
      "+----+-----+\n",
      "|team|count|\n",
      "+----+-----+\n",
      "|   1|    6|\n",
      "|   3|    8|\n",
      "|   2|    6|\n",
      "+----+-----+\n",
      "\n"
     ]
    }
   ],
   "source": [
    "teams_counts = data.groupby(\"team\").count()\n",
    "teams_counts.show()"
   ]
  },
  {
   "cell_type": "markdown",
   "metadata": {},
   "source": [
    "# Aggregation\n",
    "\n",
    "In the table ```data``` we have the same id showing up in several rows, and in each case (row) we have a different score. Now, let’s say we want to obtain some basics statistics, imagine that for each id you want to obtain the average the min and the max score. In the block of code below we show you how to do it using the methods ```groupby``` and ```agg```."
   ]
  },
  {
   "cell_type": "code",
   "execution_count": 7,
   "metadata": {},
   "outputs": [
    {
     "name": "stdout",
     "output_type": "stream",
     "text": [
      "+---+----------+----------+----------+\n",
      "| id|min(score)|max(score)|avg(score)|\n",
      "+---+----------+----------+----------+\n",
      "|  5|         7|        80|      35.2|\n",
      "|  1|         8|        79|     51.25|\n",
      "|  3|        10|        98|      41.0|\n",
      "|  2|         5|        67|      33.0|\n",
      "|  4|        70|        70|      70.0|\n",
      "+---+----------+----------+----------+\n",
      "\n"
     ]
    }
   ],
   "source": [
    "quick_stats = data.groupby(\"id\").agg(F.min(\"score\"), F.max(\"score\"), F.mean(\"score\"))\n",
    "quick_stats.show()"
   ]
  },
  {
   "cell_type": "markdown",
   "metadata": {},
   "source": [
    "Let's break down the line of code above where the **quick_stats** table is created (```data.groupby(\"id\").agg(F.min(\"score\"), F.max(\"score\"), F.mean(\"score\"))```)\n",
    "\n",
    "* ```groupby(\"id\")```: Here we are grouping by the column **id**.\n",
    "* ```agg(F.min(\"score\"), F.max(\"score\"), F.mean(\"score\"))```: here we aggregate the data and calculate the minimun, maximum and average value for the column **score** in each group (id).\n"
   ]
  },
  {
   "cell_type": "markdown",
   "metadata": {},
   "source": [
    "## Final Words\n",
    "\n",
    "We have gone over the basic tools to sort, aggregate and count using Pyspark. Now it is time for you to start coding. Start with the following:\n",
    "\n",
    "* Find out how many times the each id shows up in the table.\n",
    "* Use the ```agg``` method grouping by a different column."
   ]
  },
  {
   "cell_type": "code",
   "execution_count": null,
   "metadata": {},
   "outputs": [],
   "source": []
  }
 ],
 "metadata": {
  "kernelspec": {
   "display_name": "Python 3",
   "language": "python",
   "name": "python3"
  },
  "language_info": {
   "codemirror_mode": {
    "name": "ipython",
    "version": 3
   },
   "file_extension": ".py",
   "mimetype": "text/x-python",
   "name": "python",
   "nbconvert_exporter": "python",
   "pygments_lexer": "ipython3",
   "version": "3.7.3"
  }
 },
 "nbformat": 4,
 "nbformat_minor": 2
}
