{
 "cells": [
  {
   "cell_type": "markdown",
   "metadata": {},
   "source": [
    "# Transformation from Pyspark to Pandas Table\n",
    "\n",
    "In this notebook we will show you how to transform a Pyspark table into a pandas table\n",
    "\n",
    "We will start by importing all of the Pyspark machinery and a function that generates the Pyspark table that we will use."
   ]
  },
  {
   "cell_type": "code",
   "execution_count": 1,
   "metadata": {},
   "outputs": [],
   "source": [
    "# Spark related machinery\n",
    "import pyspark\n",
    "import pyspark.sql.functions as F\n",
    "from pyspark import SparkConf\n",
    "from pyspark.sql.types import *\n",
    "from pyspark.sql import SparkSession, HiveContext, Window\n",
    "from pyspark.sql.functions import concat_ws\n",
    "\n",
    "spark = pyspark.sql.SparkSession.builder.enableHiveSupport().getOrCreate()"
   ]
  },
  {
   "cell_type": "code",
   "execution_count": 2,
   "metadata": {},
   "outputs": [],
   "source": [
    "#Import function\n",
    "from pyspark_functions import create_sp_table3\n",
    "import pandas as pd"
   ]
  },
  {
   "cell_type": "markdown",
   "metadata": {},
   "source": [
    "In the following block of code we create a table called **data** using the function ```create_sp_table3```. Then, we will print it to screen:"
   ]
  },
  {
   "cell_type": "code",
   "execution_count": 3,
   "metadata": {},
   "outputs": [
    {
     "name": "stdout",
     "output_type": "stream",
     "text": [
      "+---+----+-----+\n",
      "| id|team|score|\n",
      "+---+----+-----+\n",
      "|  5|   3|   81|\n",
      "|  1|   2|   14|\n",
      "|  2|   1|   48|\n",
      "|  5|   1|   44|\n",
      "|  3|   2|   97|\n",
      "|  1|   2|   70|\n",
      "|  2|   2|   60|\n",
      "|  5|   2|   89|\n",
      "|  4|   3|   38|\n",
      "|  1|   2|   30|\n",
      "|  3|   3|   79|\n",
      "|  1|   3|   43|\n",
      "|  2|   2|   75|\n",
      "|  1|   3|   64|\n",
      "|  1|   1|   16|\n",
      "|  4|   2|   61|\n",
      "|  2|   2|    0|\n",
      "|  5|   3|   57|\n",
      "|  5|   3|   87|\n",
      "|  3|   3|   83|\n",
      "+---+----+-----+\n",
      "\n"
     ]
    }
   ],
   "source": [
    "#Create table\n",
    "data = create_sp_table3()\n",
    "\n",
    "#print table dorted by id\n",
    "data.show()"
   ]
  },
  {
   "cell_type": "markdown",
   "metadata": {},
   "source": [
    "In order to transform this table into a Pandas table we will use the ```toPandas``` methods, see the block of code below:"
   ]
  },
  {
   "cell_type": "code",
   "execution_count": 4,
   "metadata": {},
   "outputs": [
    {
     "data": {
      "text/html": [
       "<div>\n",
       "<style scoped>\n",
       "    .dataframe tbody tr th:only-of-type {\n",
       "        vertical-align: middle;\n",
       "    }\n",
       "\n",
       "    .dataframe tbody tr th {\n",
       "        vertical-align: top;\n",
       "    }\n",
       "\n",
       "    .dataframe thead th {\n",
       "        text-align: right;\n",
       "    }\n",
       "</style>\n",
       "<table border=\"1\" class=\"dataframe\">\n",
       "  <thead>\n",
       "    <tr style=\"text-align: right;\">\n",
       "      <th></th>\n",
       "      <th>id</th>\n",
       "      <th>team</th>\n",
       "      <th>score</th>\n",
       "    </tr>\n",
       "  </thead>\n",
       "  <tbody>\n",
       "    <tr>\n",
       "      <th>0</th>\n",
       "      <td>5</td>\n",
       "      <td>3</td>\n",
       "      <td>81</td>\n",
       "    </tr>\n",
       "    <tr>\n",
       "      <th>1</th>\n",
       "      <td>1</td>\n",
       "      <td>2</td>\n",
       "      <td>14</td>\n",
       "    </tr>\n",
       "    <tr>\n",
       "      <th>2</th>\n",
       "      <td>2</td>\n",
       "      <td>1</td>\n",
       "      <td>48</td>\n",
       "    </tr>\n",
       "    <tr>\n",
       "      <th>3</th>\n",
       "      <td>5</td>\n",
       "      <td>1</td>\n",
       "      <td>44</td>\n",
       "    </tr>\n",
       "  </tbody>\n",
       "</table>\n",
       "</div>"
      ],
      "text/plain": [
       "   id  team  score\n",
       "0   5     3     81\n",
       "1   1     2     14\n",
       "2   2     1     48\n",
       "3   5     1     44"
      ]
     },
     "execution_count": 4,
     "metadata": {},
     "output_type": "execute_result"
    }
   ],
   "source": [
    "#Transform to a Pandas table\n",
    "pd_data = data.toPandas()\n",
    "\n",
    "#Print the first 4 rows of the new Pandas table\n",
    "pd_data.head(4)"
   ]
  },
  {
   "cell_type": "markdown",
   "metadata": {},
   "source": [
    "# Final Words\n",
    "Now you know how to transform Pyspark tables into Pandas tables. It is important to mention that this method works fine when the tables are relatively small. If the tables are big (million of rows) you might get errors when using this method. In those cases you would need to use Pyarrow to make the transformation."
   ]
  }
 ],
 "metadata": {
  "kernelspec": {
   "display_name": "Python 3",
   "language": "python",
   "name": "python3"
  },
  "language_info": {
   "codemirror_mode": {
    "name": "ipython",
    "version": 3
   },
   "file_extension": ".py",
   "mimetype": "text/x-python",
   "name": "python",
   "nbconvert_exporter": "python",
   "pygments_lexer": "ipython3",
   "version": "3.7.3"
  }
 },
 "nbformat": 4,
 "nbformat_minor": 2
}
