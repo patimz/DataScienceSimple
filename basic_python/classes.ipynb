{
 "cells": [
  {
   "cell_type": "markdown",
   "metadata": {},
   "source": [
    "# Classes in python\n",
    "Classes in python allow you to create objects. These objects are nothing more than a collection of data (or variables), and methods (functions) that act on these variables. "
   ]
  },
  {
   "cell_type": "code",
   "execution_count": 1,
   "metadata": {},
   "outputs": [],
   "source": [
    "import random\n",
    "class Car():\n",
    "        def __init__(self, make, color, year):\n",
    "            self.make = make\n",
    "            self.color = color\n",
    "            self.max_speed = random.randint(50,200)\n",
    "            self.year = year\n",
    "\n",
    "my_car = Car(\"Mazda\", \"blue\", 2005)"
   ]
  },
  {
   "cell_type": "code",
   "execution_count": 2,
   "metadata": {},
   "outputs": [
    {
     "name": "stdout",
     "output_type": "stream",
     "text": [
      "Mazda\n",
      "blue\n",
      "2005\n",
      "116\n"
     ]
    }
   ],
   "source": [
    "print(my_car.make)\n",
    "print(my_car.color)\n",
    "print(my_car.year)\n",
    "print(my_car.max_speed)"
   ]
  },
  {
   "cell_type": "markdown",
   "metadata": {},
   "source": [
    "# Vectors"
   ]
  },
  {
   "cell_type": "code",
   "execution_count": 3,
   "metadata": {},
   "outputs": [],
   "source": [
    "class Vector():\n",
    "  \n",
    "    def __init__(self, x, y):\n",
    "        self.x = x\n",
    "        self.y = y\n",
    "    \n",
    "    def __repr__(self):\n",
    "        return '({},{})'.format(self.x, self.y)"
   ]
  },
  {
   "cell_type": "code",
   "execution_count": 4,
   "metadata": {},
   "outputs": [
    {
     "name": "stdout",
     "output_type": "stream",
     "text": [
      "(1,3)\n"
     ]
    }
   ],
   "source": [
    "a = Vector(1, 3)\n",
    "print(a)"
   ]
  },
  {
   "attachments": {},
   "cell_type": "markdown",
   "metadata": {},
   "source": [
    "# Addition and subtraction"
   ]
  },
  {
   "cell_type": "code",
   "execution_count": 5,
   "metadata": {},
   "outputs": [],
   "source": [
    "class Vector():\n",
    "  \n",
    "    def __init__(self, x, y):\n",
    "        self.x = x\n",
    "        self.y = y\n",
    "        \n",
    "    def __repr__(self):\n",
    "        return '({},{})'.format(self.x, self.y)\n",
    "    \n",
    "    def __add__(self, other):\n",
    "        x_val = self.x + other.x\n",
    "        y_val = self.y + other.y\n",
    "        return self.__class__(x_val, y_val)\n",
    "    \n",
    "    def __sub__(self, other):\n",
    "        x_val = self.x - other.x\n",
    "        y_val = self.y - other.y\n",
    "        return self.__class__(x_val, y_val)\n"
   ]
  },
  {
   "cell_type": "code",
   "execution_count": 6,
   "metadata": {},
   "outputs": [
    {
     "name": "stdout",
     "output_type": "stream",
     "text": [
      "(4,8)\n",
      "(-2,-2)\n"
     ]
    }
   ],
   "source": [
    "a = Vector(1, 3)\n",
    "b = Vector(3, 5)\n",
    "print(a + b)\n",
    "print(a - b)"
   ]
  },
  {
   "cell_type": "markdown",
   "metadata": {},
   "source": [
    "# Multiplication (dot product)"
   ]
  },
  {
   "cell_type": "code",
   "execution_count": 7,
   "metadata": {},
   "outputs": [],
   "source": [
    "class Vector():\n",
    "  \n",
    "    def __init__(self, x, y):\n",
    "        self.x = x\n",
    "        self.y = y\n",
    "        \n",
    "    def __repr__(self):\n",
    "        return '({},{})'.format(self.x, self.y)\n",
    "    \n",
    "    def __add__(self, other):\n",
    "        x_val = self.x + other.x\n",
    "        y_val = self.y + other.y\n",
    "        return self.__class__(x_val, y_val)\n",
    "    \n",
    "    def __sub__(self, other):\n",
    "        x_val = self.x - other.x\n",
    "        y_val = self.y - other.y\n",
    "        return self.__class__(x_val, y_val)\n",
    "    \n",
    "    def __mul__(self, other):\n",
    "        val = (self.x * other.x) + (self.y * other.y)\n",
    "        return val"
   ]
  },
  {
   "cell_type": "code",
   "execution_count": 8,
   "metadata": {},
   "outputs": [
    {
     "name": "stdout",
     "output_type": "stream",
     "text": [
      "10\n"
     ]
    }
   ],
   "source": [
    "a = Vector(2, 3)\n",
    "b = Vector(2, 2)\n",
    "print(a * b)"
   ]
  },
  {
   "cell_type": "markdown",
   "metadata": {},
   "source": [
    "# Multiplication (between numbers and vectors)"
   ]
  },
  {
   "cell_type": "code",
   "execution_count": 9,
   "metadata": {},
   "outputs": [
    {
     "name": "stdout",
     "output_type": "stream",
     "text": [
      "(10,15)\n"
     ]
    }
   ],
   "source": [
    "class Vector():\n",
    "  \n",
    "    def __init__(self, x, y):\n",
    "        self.x = x\n",
    "        self.y = y\n",
    "        \n",
    "    def __repr__(self):\n",
    "        return '({},{})'.format(self.x, self.y)\n",
    "    \n",
    "    def __add__(self, other):\n",
    "        x_val = self.x + other.x\n",
    "        y_val = self.y + other.y\n",
    "        return self.__class__(x_val, y_val)\n",
    "    \n",
    "    def __sub__(self, other):\n",
    "        x_val = self.x - other.x\n",
    "        y_val = self.y - other.y\n",
    "        return self.__class__(x_val, y_val)\n",
    "    \n",
    "    def __mul__(self, other):\n",
    "        val = (self.x * other.x) + (self.y * other.y)\n",
    "        return val\n",
    "    \n",
    "    def __rmul__(self, coefficient):\n",
    "        x_val = coefficient * self.x\n",
    "        y_val = coefficient * self.y\n",
    "        return self.__class__(x_val, y_val)\n",
    "\n",
    "a = Vector(2, 3)\n",
    "print(5 * a)"
   ]
  },
  {
   "cell_type": "markdown",
   "metadata": {},
   "source": [
    "# Summary"
   ]
  },
  {
   "cell_type": "markdown",
   "metadata": {},
   "source": [
    "### Addition and subtraction \n",
    "The python addition and subtraction operators (+ and -) can be overridden using the methods ```__add__``` and ```__sub__```. Therefore, in the class vector, we have defined subtraction and addition as:\n",
    "```\n",
    "    def __add__(self, other):\n",
    "        x_val = self.x + other.x\n",
    "        y_val = self.y + other.y\n",
    "        return self.__class__(x_val, y_val)\n",
    "    \n",
    "    def __sub__(self, other):\n",
    "        x_val = self.x - other.x\n",
    "        y_val = self.y - other.y\n",
    "        return self.__class__(x_val, y_val)\n",
    "```\n",
    "It is important to notice that in both cases (addition and subtraction) we are returning an element of the class vector (```__class__```) with the calculated values ```x_val``` and ```y_val```. It is also important to notice that in both cases we are passing ```self``` and ```other``` to the functions. ```self``` and ```other``` represent the two objects (in this case vectors), that we will be adding or subtracting.\n",
    "\n",
    "These lines of code allow us to add vectors as shown below:"
   ]
  },
  {
   "cell_type": "code",
   "execution_count": null,
   "metadata": {},
   "outputs": [],
   "source": [
    "a = Vector(2, 3)\n",
    "b = Vector(5, 6)\n",
    "print(a + b)\n",
    "print(a - b)"
   ]
  },
  {
   "cell_type": "markdown",
   "metadata": {},
   "source": [
    "### Dot product between vectors\n",
    "\n",
    "In order to define the dot product between vectors, the class ```Vector``` uses the method ```__mul__``` to override the python operator ```*```. In the block of code shown below, we are passing ```self``` and ```other``` to the function, these two represents the two objects we are multiplying. As you can see we are returning the variable ```val```, which is just the dot product between the two vectors. Remember that the dot product is defined as $(x_1, y_1) \\cdot (x_2, y_2) = (x_1 \\cdot x_2) + (y_1 \\cdot y_2)$\n",
    "```\n",
    "    def __mul__(self, other):\n",
    "        val = (self.x * other.x) + (self.y * other.y)\n",
    "        return val\n",
    "```\n",
    "These lines of code allow us to take the dot product between two vectors as shown below:"
   ]
  },
  {
   "cell_type": "code",
   "execution_count": null,
   "metadata": {},
   "outputs": [],
   "source": [
    "c = Vector(2, 3)\n",
    "d = Vector(5, 6)\n",
    "print(c * d)"
   ]
  },
  {
   "cell_type": "markdown",
   "metadata": {},
   "source": [
    "### Multiplication between vectors and numbers\n",
    "\n",
    "The method ```__rmul__``` overrides the multiplication of an object by a number. In our case we use it to define the multiplication between vectors and numbers. Remember that the multiplication between a number and a vector is defined as: $k \\cdot (x, y) = (k \\cdot x, k \\cdot y)$, where k in a number. \n",
    "\n",
    "In the class ```Vector``` the following lines of code make this type of multiplication possible:\n",
    "```\n",
    "def __rmul__(self, coefficient):\n",
    "        x_val = coefficient * self.x\n",
    "        y_val = coefficient * self.y\n",
    "        return self.__class__(x_val, y_val)\n",
    "```\n",
    "It is important to notice that we pass the vector ```self``` and the number ```coefficient``` to the function. After calculating the variables ```x_val``` and ```y_val```, we return a member of the ```Vector``` class with these two values.)\n",
    "\n",
    "Now we can do things like:\n"
   ]
  },
  {
   "cell_type": "code",
   "execution_count": null,
   "metadata": {},
   "outputs": [],
   "source": [
    "e = Vector(3, 5)\n",
    "print(5 * e)"
   ]
  },
  {
   "cell_type": "markdown",
   "metadata": {},
   "source": [
    "### Magnitude of the vector (Not implemented in the class right now)\n",
    "The magnitude of  a vector is defined as: $|(x, y)| = \\sqrt{(x^2) + (y^2)}$. In the class ```Vector``` the following lines of code are responsible for calculating the vector’s magnitude:\n",
    "```\n",
    "    def magnitude(self):\n",
    "        val = math.sqrt(self.x**2 + self.y**2)\n",
    "        return val\n",
    "```\n",
    "Notice that the function takes the vector ```self```, calculates ```val``` (using ```math``` which you need  to import) and returns it. Now we can obtain the magnitude of the vector as shown below:"
   ]
  },
  {
   "cell_type": "code",
   "execution_count": null,
   "metadata": {},
   "outputs": [],
   "source": [
    "#f = Vector(3, 4)\n",
    "#print(f.magnitude())"
   ]
  },
  {
   "attachments": {},
   "cell_type": "markdown",
   "metadata": {},
   "source": [
    "### Final Words\n",
    "Now you should have a basic understanding of how classes work. Now you need to start coding! \n",
    "\n",
    "* Start by implementing the function ```magnitude``` as described above. You have to import ```math```.\n",
    "\n",
    "* Code a function for the class ```Vector``` that calculates the cross product between two vectors. However, Remember that the cross product between vectors only apply to vectors in 3 dimensions (not 2D). So you will have to modify a couple of things in the class ```Vector``` to transform it from 2D vectors to 3D vectors."
   ]
  },
  {
   "cell_type": "code",
   "execution_count": null,
   "metadata": {},
   "outputs": [],
   "source": []
  }
 ],
 "metadata": {
  "kernelspec": {
   "display_name": "Python 3",
   "language": "python",
   "name": "python3"
  },
  "language_info": {
   "codemirror_mode": {
    "name": "ipython",
    "version": 3
   },
   "file_extension": ".py",
   "mimetype": "text/x-python",
   "name": "python",
   "nbconvert_exporter": "python",
   "pygments_lexer": "ipython3",
   "version": "3.7.3"
  }
 },
 "nbformat": 4,
 "nbformat_minor": 2
}
