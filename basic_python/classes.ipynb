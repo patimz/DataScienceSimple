{
 "cells": [
  {
   "cell_type": "markdown",
   "metadata": {},
   "source": [
    "# Classes in python\n",
    "Classes in python allow you to create objects. These objects are nothing more than a collection of data (or variables), and methods (functions) that act on these variables. \n",
    "\n",
    "While a lot has been written about classes, the best way of explaining how classes work and why they are useful is with a simple example. Therefore, we are going to create a class called **Vector** that will allow you to create vectors (x, y), add two vectors, subtract them, define the dot product between two vectors, multiply a vector by a constant, and obtain the magnitude of the vector.\n",
    "\n",
    "For the ones that wants to see how the class looks like, the following block of code contains  the class **Vector**. It is important to mention that we are importing **math** because we have to calculate the root square of numbers."
   ]
  },
  {
   "cell_type": "code",
   "execution_count": 1,
   "metadata": {},
   "outputs": [],
   "source": [
    "import math\n",
    "class Vector():\n",
    "  \n",
    "    def __init__(self, x, y):\n",
    "        self.x = x\n",
    "        self.y = y\n",
    "        \n",
    "    def __repr__(self):\n",
    "        return '({},{})'.format(self.x, self.y)\n",
    "    \n",
    "    def __add__(self, other):\n",
    "        x_val = self.x + other.x\n",
    "        y_val = self.y + other.y\n",
    "        return self.__class__(x_val, y_val)\n",
    "    \n",
    "    def __sub__(self, other):\n",
    "        x_val = self.x - other.x\n",
    "        y_val = self.y - other.y\n",
    "        return self.__class__(x_val, y_val)\n",
    "    \n",
    "    def __mul__(self, other):\n",
    "        val = (self.x * other.x) + (self.y * other.y)\n",
    "        return val\n",
    "    \n",
    "    def __rmul__(self, coefficient):\n",
    "        x_val = coefficient * self.x\n",
    "        y_val = coefficient * self.y\n",
    "        return self.__class__(x_val, y_val)\n",
    "    \n",
    "    def magnitude(self):\n",
    "        val = math.sqrt(self.x**2 + self.y**2)\n",
    "        return val"
   ]
  },
  {
   "cell_type": "markdown",
   "metadata": {},
   "source": [
    "Ok, now that you have seen the code, lets break in small parts and see what is going on in each part.\n",
    "\n",
    "### Class name, initialization and representation of the object\n",
    "The first lines of code in the class Vector the __init__ method defines the input variables, in this case two numbers (x and y). While the method __repr__ defines how the object will be represented, in this case the function returns \"(x, y)\"\n",
    "\n",
    "```\n",
    "class Vector():\n",
    "    \n",
    "    def __init__(self, x, y):\n",
    "        self.x = x\n",
    "        self.y = y\n",
    "        \n",
    "    def __repr__(self):\n",
    "        return '({},{})'.format(self.x, self.y)\n",
    "```\n",
    "This allow us to create a vector object and print it to screen as shown below:"
   ]
  },
  {
   "cell_type": "code",
   "execution_count": 2,
   "metadata": {},
   "outputs": [
    {
     "name": "stdout",
     "output_type": "stream",
     "text": [
      "(2,3)\n"
     ]
    }
   ],
   "source": [
    "a = Vector(2, 3)\n",
    "print(a)"
   ]
  },
  {
   "cell_type": "markdown",
   "metadata": {},
   "source": [
    "Addition and subtraction\n",
    "The python addition and subtraction operators (+ and -) can be overridden using the methods __add__ and __sub__. Therefore, in the class vector, we have defined subtraction and addition as:\n",
    "```\n",
    "    def __add__(self, other):\n",
    "        x_val = self.x + other.x\n",
    "        y_val = self.y + other.y\n",
    "        return self.__class__(x_val, y_val)\n",
    "    \n",
    "    def __sub__(self, other):\n",
    "        x_val = self.x - other.x\n",
    "        y_val = self.y - other.y\n",
    "        return self.__class__(x_val, y_val)\n",
    "```\n"
   ]
  },
  {
   "cell_type": "code",
   "execution_count": null,
   "metadata": {},
   "outputs": [],
   "source": []
  }
 ],
 "metadata": {
  "kernelspec": {
   "display_name": "Python 3",
   "language": "python",
   "name": "python3"
  },
  "language_info": {
   "codemirror_mode": {
    "name": "ipython",
    "version": 3
   },
   "file_extension": ".py",
   "mimetype": "text/x-python",
   "name": "python",
   "nbconvert_exporter": "python",
   "pygments_lexer": "ipython3",
   "version": "3.7.3"
  }
 },
 "nbformat": 4,
 "nbformat_minor": 2
}
