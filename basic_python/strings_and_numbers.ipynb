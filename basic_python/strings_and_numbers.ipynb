{
 "cells": [
  {
   "cell_type": "markdown",
   "metadata": {},
   "source": [
    "# Strings and Numbers\n",
    "\n",
    "This notebook contains the basics concepts behind strings and numbers. We will start with strings.\n",
    "\n",
    "## Strings\n",
    "\n",
    "We will start with the most popular line of code of all times: print to screen **Hello world!**. This is done using the ```print()``` function as shown below:"
   ]
  },
  {
   "cell_type": "code",
   "execution_count": 1,
   "metadata": {},
   "outputs": [
    {
     "name": "stdout",
     "output_type": "stream",
     "text": [
      "Hello world!\n"
     ]
    }
   ],
   "source": [
    "print(\"Hello world!\")"
   ]
  },
  {
   "cell_type": "markdown",
   "metadata": {},
   "source": [
    "Notice that the statement inside the print function is in between ```” ”```. \n",
    "\n",
    "## Pick Single Characters in Strings\n",
    "\n",
    "Something cool and useful about strings is that you can access one element or a range of element in the string. Each element in the string (each character) has a position (a number), where 0 is assigned to the first element, 1 to the second, 2 to the third and so on."
   ]
  },
  {
   "cell_type": "code",
   "execution_count": 2,
   "metadata": {},
   "outputs": [
    {
     "name": "stdout",
     "output_type": "stream",
     "text": [
      "I bought a new car\n"
     ]
    }
   ],
   "source": [
    "new_string = \"I bought a new car\"\n",
    "print(new_string)"
   ]
  },
  {
   "cell_type": "code",
   "execution_count": 3,
   "metadata": {},
   "outputs": [
    {
     "name": "stdout",
     "output_type": "stream",
     "text": [
      "I\n",
      "b\n"
     ]
    }
   ],
   "source": [
    "print(new_string[0])\n",
    "print(new_string[2])"
   ]
  },
  {
   "cell_type": "markdown",
   "metadata": {},
   "source": [
    "The last element can be accessed using its normal position, or using the ```-1``` position, see below:"
   ]
  },
  {
   "cell_type": "code",
   "execution_count": 4,
   "metadata": {},
   "outputs": [
    {
     "name": "stdout",
     "output_type": "stream",
     "text": [
      "r\n",
      "r\n"
     ]
    }
   ],
   "source": [
    "print(new_string[17])\n",
    "print(new_string[-1])"
   ]
  },
  {
   "cell_type": "markdown",
   "metadata": {},
   "source": [
    "## Pick a range of characters\n",
    "You can also create a subset of your original string by defining the range of elements you want to pick from your original string. For example, we can divide the string into two strings ```I bought ``` and ```a new car``` in the following way:"
   ]
  },
  {
   "cell_type": "code",
   "execution_count": 5,
   "metadata": {},
   "outputs": [
    {
     "name": "stdout",
     "output_type": "stream",
     "text": [
      "I bought \n",
      "a new car\n"
     ]
    }
   ],
   "source": [
    "print(new_string[0:9])\n",
    "print(new_string[9:18])"
   ]
  },
  {
   "cell_type": "markdown",
   "metadata": {},
   "source": [
    "## String concatenation\n",
    "You can easily concatenate two strings using the ```+``` operator, see below:\n"
   ]
  },
  {
   "cell_type": "code",
   "execution_count": 6,
   "metadata": {},
   "outputs": [
    {
     "name": "stdout",
     "output_type": "stream",
     "text": [
      "I bought a new TV\n",
      "I bought a new bike\n"
     ]
    }
   ],
   "source": [
    "action = \"I bought \"\n",
    "thing_1 = \"a new TV\"\n",
    "thing_2 = \"a new bike\"\n",
    "\n",
    "sentence_1 = action + thing_1\n",
    "sentence_2 = action + thing_2\n",
    "\n",
    "print(sentence_1)\n",
    "print(sentence_2)"
   ]
  },
  {
   "cell_type": "markdown",
   "metadata": {},
   "source": [
    "## Number of elements in the string"
   ]
  },
  {
   "cell_type": "markdown",
   "metadata": {},
   "source": [
    "You can count the number of elements in your string using the function ```len()```. In the following block of code we count the number of characters in the variable ```sentence_1```:"
   ]
  },
  {
   "cell_type": "code",
   "execution_count": 7,
   "metadata": {},
   "outputs": [
    {
     "name": "stdout",
     "output_type": "stream",
     "text": [
      "17\n"
     ]
    }
   ],
   "source": [
    "print(len(sentence_1))"
   ]
  },
  {
   "cell_type": "markdown",
   "metadata": {},
   "source": [
    "## Numbers\n",
    "Now we switch to numbers, we will start with basic arithmetic. You can easily make operations between numbers using the ```+```, ```-```, ```*```, and ```/``` operators as shown below. We will use the ```print()``` function to print the resuls:"
   ]
  },
  {
   "cell_type": "code",
   "execution_count": 8,
   "metadata": {},
   "outputs": [
    {
     "name": "stdout",
     "output_type": "stream",
     "text": [
      "3\n",
      "1\n",
      "2.0\n",
      "25\n"
     ]
    }
   ],
   "source": [
    "print(1 + 2)\n",
    "print(3 - 2)\n",
    "print(6 / 3)\n",
    "print(5 * 5)"
   ]
  },
  {
   "cell_type": "markdown",
   "metadata": {},
   "source": [
    "If you want to elevate a number to the power of other, for example $10^5$ you need to use the ```**``` or ```pow()``` as follows:"
   ]
  },
  {
   "cell_type": "code",
   "execution_count": 9,
   "metadata": {},
   "outputs": [
    {
     "name": "stdout",
     "output_type": "stream",
     "text": [
      "100000\n",
      "100000\n"
     ]
    }
   ],
   "source": [
    "print(10**5)\n",
    "print(pow(10, 5))"
   ]
  },
  {
   "cell_type": "markdown",
   "metadata": {},
   "source": [
    "## Transformations"
   ]
  },
  {
   "cell_type": "markdown",
   "metadata": {},
   "source": [
    "Finally, it is important to know that you can transform a string into a number and vice versa. For example, let’s say we have a string ```a_string = “1”``` and a number ```a_number  = 7 ```. We can transform the string into a number, and the number into a string, see below."
   ]
  },
  {
   "cell_type": "code",
   "execution_count": 12,
   "metadata": {},
   "outputs": [
    {
     "name": "stdout",
     "output_type": "stream",
     "text": [
      "11\n",
      "2\n"
     ]
    }
   ],
   "source": [
    "a_string = \"1\"\n",
    "print(a_string + a_string)\n",
    "print(int(a_string) + int(a_string))"
   ]
  },
  {
   "cell_type": "code",
   "execution_count": 13,
   "metadata": {},
   "outputs": [
    {
     "name": "stdout",
     "output_type": "stream",
     "text": [
      "14\n",
      "77\n"
     ]
    }
   ],
   "source": [
    "a_number = 7\n",
    "print(a_number + a_number)\n",
    "print(str(a_number) + str(a_number))"
   ]
  }
 ],
 "metadata": {
  "kernelspec": {
   "display_name": "Python 3",
   "language": "python",
   "name": "python3"
  },
  "language_info": {
   "codemirror_mode": {
    "name": "ipython",
    "version": 3
   },
   "file_extension": ".py",
   "mimetype": "text/x-python",
   "name": "python",
   "nbconvert_exporter": "python",
   "pygments_lexer": "ipython3",
   "version": "3.7.3"
  }
 },
 "nbformat": 4,
 "nbformat_minor": 2
}
