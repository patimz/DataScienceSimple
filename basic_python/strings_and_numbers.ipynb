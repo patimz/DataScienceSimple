{
 "cells": [
  {
   "cell_type": "markdown",
   "metadata": {},
   "source": [
    "# Strings and Numbers\n",
    "\n",
    "This notebook contains the basics concepts behind strings and numbers. We will start with strings.\n",
    "\n",
    "## Strings\n",
    "\n",
    "We will start with the most popular lines of code of all times: print to screen \"Hello world!\". This is done using the ```print()``` function as shown below:"
   ]
  },
  {
   "cell_type": "code",
   "execution_count": 1,
   "metadata": {},
   "outputs": [
    {
     "name": "stdout",
     "output_type": "stream",
     "text": [
      "Hello world!\n"
     ]
    }
   ],
   "source": [
    "print(\"Hello world!\")"
   ]
  },
  {
   "cell_type": "markdown",
   "metadata": {},
   "source": [
    "Notice that the statement inside the print function is in between ```” ”```. These characters are used to define strings. For example, we can define the variable ```new_string``` as the string ```I bought a new car``` as follows:"
   ]
  },
  {
   "cell_type": "code",
   "execution_count": 2,
   "metadata": {},
   "outputs": [
    {
     "name": "stdout",
     "output_type": "stream",
     "text": [
      "I bought a new car\n"
     ]
    }
   ],
   "source": [
    "new_string = \"I bought a new car\"\n",
    "print(new_string)"
   ]
  },
  {
   "cell_type": "markdown",
   "metadata": {},
   "source": [
    "Something cool and useful about strings is that you can access one element or a range of element in the string. Each element in the string (each letter) has a position (a number), where 0 is assigned to the first element, 1 to the second, 2 to the third and so on. Therefore, if we want to access the first, the fourth, and the fifth element of our string ```new_string```, we do the following:"
   ]
  },
  {
   "cell_type": "code",
   "execution_count": 3,
   "metadata": {},
   "outputs": [
    {
     "name": "stdout",
     "output_type": "stream",
     "text": [
      "I\n",
      "o\n",
      "u\n"
     ]
    }
   ],
   "source": [
    "first_element = new_string[0]\n",
    "fourth_element = new_string[3]\n",
    "fifth_element = new_string[4]\n",
    "\n",
    "print(first_element)\n",
    "print(fourth_element)\n",
    "print(fifth_element)"
   ]
  },
  {
   "cell_type": "markdown",
   "metadata": {},
   "source": [
    "The last element can be accessed using its normal position, or using the ```-1``` position, see below:"
   ]
  },
  {
   "cell_type": "code",
   "execution_count": 4,
   "metadata": {},
   "outputs": [
    {
     "name": "stdout",
     "output_type": "stream",
     "text": [
      "r\n",
      "r\n"
     ]
    }
   ],
   "source": [
    "print(new_string[17])\n",
    "print(new_string[-1])"
   ]
  },
  {
   "cell_type": "markdown",
   "metadata": {},
   "source": [
    "Now, you can also create a subset of your original string by defining the range of elements you want to pick from your original string. For example, we can divide the string into two strings ```I bought ``` and ```a new car``` in the following way:"
   ]
  },
  {
   "cell_type": "code",
   "execution_count": 5,
   "metadata": {},
   "outputs": [
    {
     "name": "stdout",
     "output_type": "stream",
     "text": [
      "I bought \n",
      "a new car\n"
     ]
    }
   ],
   "source": [
    "first_half = new_string[0:9]\n",
    "second_half = new_string[9:18]\n",
    "\n",
    "print(first_half)\n",
    "print(second_half)"
   ]
  },
  {
   "cell_type": "markdown",
   "metadata": {},
   "source": [
    "### String concatenation\n",
    "You can easily concatenate two strings using the ```+``` operator, see below:\n"
   ]
  },
  {
   "cell_type": "code",
   "execution_count": 6,
   "metadata": {},
   "outputs": [
    {
     "name": "stdout",
     "output_type": "stream",
     "text": [
      "I bought a new TV\n",
      "I bought a new bike\n"
     ]
    }
   ],
   "source": [
    "action = \"I bought \"\n",
    "thing_1 = \"a new TV\"\n",
    "thing_2 = \"a new bike\"\n",
    "\n",
    "sentence_1 = action + thing_1\n",
    "sentence_2 = action + thing_2\n",
    "\n",
    "print(sentence_1)\n",
    "print(sentence_2)"
   ]
  },
  {
   "cell_type": "markdown",
   "metadata": {},
   "source": [
    "### Number of elements in the string"
   ]
  },
  {
   "cell_type": "markdown",
   "metadata": {},
   "source": [
    "You can count the number of elements in your string using the function ```len()```. In the following block of code we count the number of characters in the variable ```sentence_1```:"
   ]
  },
  {
   "cell_type": "code",
   "execution_count": 7,
   "metadata": {},
   "outputs": [
    {
     "name": "stdout",
     "output_type": "stream",
     "text": [
      "17\n"
     ]
    }
   ],
   "source": [
    "print(len(sentence_1))"
   ]
  },
  {
   "cell_type": "markdown",
   "metadata": {},
   "source": [
    "## Numbers\n",
    "Now we switch to numbers, we will start with basic arithmetic. You can easily make operations between numbers using the ```+```, ```-```, ```*```, and ```/``` operators as shown below. We will use the ```print()``` function to print the resuls:"
   ]
  },
  {
   "cell_type": "code",
   "execution_count": 8,
   "metadata": {},
   "outputs": [
    {
     "name": "stdout",
     "output_type": "stream",
     "text": [
      "3\n",
      "1\n",
      "2.0\n",
      "25\n"
     ]
    }
   ],
   "source": [
    "print(1 + 2)\n",
    "print(3 - 2)\n",
    "print(6 / 3)\n",
    "print(5 * 5)"
   ]
  },
  {
   "cell_type": "markdown",
   "metadata": {},
   "source": [
    "If you want to do elevate a number to the power of other, for example $3^5$ you need to use the ```**``` or ```pow()``` as follows:"
   ]
  },
  {
   "cell_type": "code",
   "execution_count": 9,
   "metadata": {},
   "outputs": [
    {
     "name": "stdout",
     "output_type": "stream",
     "text": [
      "243\n",
      "243\n"
     ]
    }
   ],
   "source": [
    "print(3**5)\n",
    "print(pow(3, 5))"
   ]
  },
  {
   "cell_type": "markdown",
   "metadata": {},
   "source": [
    "A way of taking the square root of a number is to import ```math``` and use ```math.sqrt()```. For example, if we want to calculate $\\sqrt{25}$, we would do the following:"
   ]
  },
  {
   "cell_type": "code",
   "execution_count": 10,
   "metadata": {},
   "outputs": [
    {
     "name": "stdout",
     "output_type": "stream",
     "text": [
      "5.0\n"
     ]
    }
   ],
   "source": [
    "import math\n",
    "print(math.sqrt(25))"
   ]
  },
  {
   "cell_type": "markdown",
   "metadata": {},
   "source": [
    "The ```math``` module has a lot of useful functions, it allows you to calculate things such as **log**, **sin**, **cos** and more, below you will find how to use some of these. However, I encourage you to visit this [page]( https://docs.python.org/3/library/math.html\n",
    ") where you will find all the functions available."
   ]
  },
  {
   "cell_type": "code",
   "execution_count": 11,
   "metadata": {},
   "outputs": [
    {
     "name": "stdout",
     "output_type": "stream",
     "text": [
      "2.0\n",
      "3.141592653589793\n",
      "1.0\n",
      "-1.0\n"
     ]
    }
   ],
   "source": [
    "#Log of 100 in base 10\n",
    "print(math.log(100, 10))\n",
    "\n",
    "#the number pi\n",
    "pi = math.pi\n",
    "print(pi)\n",
    "\n",
    "#sin of pi/2\n",
    "print(math.sin(pi/2))\n",
    "\n",
    "#cos of pi\n",
    "print(math.cos(pi))"
   ]
  },
  {
   "cell_type": "markdown",
   "metadata": {},
   "source": [
    "Finally, it is important to know that you can transform a string into a number and vice versa. For example, let’s say we have a string ```a_string = “1”``` and a number ```a_number  = 7 ```. We can calculate ```a_string + a_string``` and ```a_number + a_number```, as we have done before, see below:"
   ]
  },
  {
   "cell_type": "code",
   "execution_count": 12,
   "metadata": {},
   "outputs": [
    {
     "name": "stdout",
     "output_type": "stream",
     "text": [
      "11\n",
      "14\n"
     ]
    }
   ],
   "source": [
    "a_string = \"1\"\n",
    "a_number = 7\n",
    "\n",
    "print(a_string + a_string)\n",
    "print(a_number + a_number)"
   ]
  },
  {
   "cell_type": "markdown",
   "metadata": {},
   "source": [
    "However, we can transform the string into a number, and the number into a string, using ```int()``` and ```str()```, see below:"
   ]
  },
  {
   "cell_type": "code",
   "execution_count": 13,
   "metadata": {},
   "outputs": [
    {
     "name": "stdout",
     "output_type": "stream",
     "text": [
      "1\n",
      "7\n"
     ]
    }
   ],
   "source": [
    "new_number = int(a_string)\n",
    "new_string = str(a_number)\n",
    "\n",
    "print(new_number)\n",
    "print(new_string)"
   ]
  },
  {
   "cell_type": "markdown",
   "metadata": {},
   "source": [
    "Now we can add them!"
   ]
  },
  {
   "cell_type": "code",
   "execution_count": 14,
   "metadata": {},
   "outputs": [
    {
     "name": "stdout",
     "output_type": "stream",
     "text": [
      "17\n",
      "8\n"
     ]
    }
   ],
   "source": [
    "print(a_string + new_string)\n",
    "print(a_number + new_number)"
   ]
  },
  {
   "cell_type": "markdown",
   "metadata": {},
   "source": [
    "## Final words\n",
    "We can also have converted the string using ```double()```, try it! You can also work with complex numbers using ```complex()```. I wont cover those in this notebook, but you can read more about it [here](https://docs.python.org/3/library/stdtypes.html).\n"
   ]
  },
  {
   "cell_type": "code",
   "execution_count": null,
   "metadata": {},
   "outputs": [],
   "source": []
  }
 ],
 "metadata": {
  "kernelspec": {
   "display_name": "Python 3",
   "language": "python",
   "name": "python3"
  },
  "language_info": {
   "codemirror_mode": {
    "name": "ipython",
    "version": 3
   },
   "file_extension": ".py",
   "mimetype": "text/x-python",
   "name": "python",
   "nbconvert_exporter": "python",
   "pygments_lexer": "ipython3",
   "version": "3.7.3"
  }
 },
 "nbformat": 4,
 "nbformat_minor": 2
}
