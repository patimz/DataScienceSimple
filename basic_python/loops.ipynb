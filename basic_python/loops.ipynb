{
 "cells": [
  {
   "cell_type": "markdown",
   "metadata": {},
   "source": [
    "# Loops\n",
    "\n",
    "This notebook contains the basic concepts behind loops. \n",
    "\n",
    "A loop is simple a piece of code that repeats until certain condition is met. There are several ways of creating a loop, we will start with the **for** loop.\n",
    "\n",
    "## For Loop\n",
    "You can use a **for** loop to go over each element of a list performing an action. Let’s start with the simplest case, you have a list and you want to print each element of this list. The following block of code shows how to do it:"
   ]
  },
  {
   "cell_type": "code",
   "execution_count": 1,
   "metadata": {},
   "outputs": [
    {
     "name": "stdout",
     "output_type": "stream",
     "text": [
      "1\n",
      "1\n",
      "2\n",
      "3\n",
      "5\n",
      "8\n",
      "13\n",
      "21\n"
     ]
    }
   ],
   "source": [
    "#define the list\n",
    "my_list = [1, 1, 2, 3, 5, 8, 13, 21]\n",
    "\n",
    "#now the for loop\n",
    "for number in my_list:\n",
    "    print(number)"
   ]
  },
  {
   "cell_type": "markdown",
   "metadata": {},
   "source": [
    "In the line of code that says ```for number in my_list:``` we are telling python that we want to create a variable called ```number``` and we want that variable to take the values of each one of the elements in the list ```my_list``` on by one.\n",
    "\n",
    "The first thing to notice is that we are using the word ```number``` in the creation of the loop (the line that says ```for number in my_list:```). However, we could have use any other word and it would have worked in the same way (we would have to change the name of the variable in the print statement inside the loop). Try it!\n",
    "\n",
    "The second thing you need to notice is that the line where the loop is created finishes with ```:``` and the line right after has an indentation. The indentation defines the code that should run inside the loop.\n",
    "\n",
    "## For Loops Over Strings\n",
    "In the example above the loop went over a list, but you can also make the loop fo over each element of a string, see below:"
   ]
  },
  {
   "cell_type": "code",
   "execution_count": 2,
   "metadata": {},
   "outputs": [
    {
     "name": "stdout",
     "output_type": "stream",
     "text": [
      "T\n",
      "h\n",
      "i\n",
      "s\n",
      " \n",
      "i\n",
      "s\n",
      " \n",
      "a\n",
      " \n",
      "s\n",
      "h\n",
      "r\n",
      "o\n",
      "t\n",
      " \n",
      "s\n",
      "t\n",
      "r\n",
      "i\n",
      "n\n",
      "g\n"
     ]
    }
   ],
   "source": [
    "#Define the string\n",
    "short_string = \"This is a shrot string\"\n",
    "\n",
    "#The for loop\n",
    "for letter in short_string:\n",
    "    print(letter)"
   ]
  },
  {
   "cell_type": "markdown",
   "metadata": {},
   "source": [
    "## While Loops\n",
    "As you might have guessed by now, the ```while``` loop starts with the word “**while**”. In the block of code below we start by initializing a variable (```counter```) with the number ```0```, then we start the loop with the line of code that says ```while counter <= 10:```. The translation of this line of code to plain English would be sometime like: **While the variable counter is less or equal than 10, run the following lines of code in a loop**."
   ]
  },
  {
   "cell_type": "code",
   "execution_count": 3,
   "metadata": {},
   "outputs": [
    {
     "name": "stdout",
     "output_type": "stream",
     "text": [
      "0 0\n",
      "1 1\n",
      "2 4\n",
      "3 9\n",
      "4 16\n",
      "5 25\n",
      "6 36\n",
      "7 49\n",
      "8 64\n",
      "9 81\n",
      "10 100\n"
     ]
    }
   ],
   "source": [
    "#We initialize a variable called counter with the value 0\n",
    "counter = 0\n",
    "\n",
    "#The while loop \n",
    "while counter <= 10:\n",
    "    #Print the value of counter and counter to the power of 2\n",
    "    print(counter, counter**2)\n",
    "    \n",
    "    #Increase the value of the variable counter by one\n",
    "    counter = counter + 1\n",
    "    "
   ]
  },
  {
   "cell_type": "markdown",
   "metadata": {},
   "source": [
    "In this case we are printing the value $counter$ and $counter^2$. However, the important part here is that the last line inside the loop: \n",
    "```counter = counter + 1```\n",
    "This line is increasing the value of the variable ```counter``` by one in every loop. When this variable ```counter``` becomes ```11``` the loop breaks. This can be confirmed by printing the value of the variable ```counter``` (now it should be 11), see below:"
   ]
  },
  {
   "cell_type": "code",
   "execution_count": 4,
   "metadata": {},
   "outputs": [
    {
     "name": "stdout",
     "output_type": "stream",
     "text": [
      "11\n"
     ]
    }
   ],
   "source": [
    "print(counter)"
   ]
  },
  {
   "cell_type": "markdown",
   "metadata": {},
   "source": [
    "If you forget to add the line of code that increases the value of the variable ```counter``` your code will get stuck in an infinite loop. try it, but remember, you will need to interrupt the kernel!\n",
    "\n",
    "Before we move to nested loops, instead of increasing the value of the variable ```counter``` doing ```counter = counter + 1``` try doing ```counter += 1```.\n",
    "\n",
    "## Nested Loops\n",
    "\n",
    "Nested loops are very common and they are very useful. Imagine you have two lists, let's say you have cars and colors, and you want to obtain all possible combinations. You can use nested loops to achieve this goal, see below:"
   ]
  },
  {
   "cell_type": "code",
   "execution_count": 5,
   "metadata": {},
   "outputs": [
    {
     "name": "stdout",
     "output_type": "stream",
     "text": [
      "White Nissan\n",
      "White Toyota\n",
      "White Honda\n",
      "White Ferrari\n",
      "White BMW\n",
      "White Mercedes\n",
      "White Mazda\n",
      "Blue Nissan\n",
      "Blue Toyota\n",
      "Blue Honda\n",
      "Blue Ferrari\n",
      "Blue BMW\n",
      "Blue Mercedes\n",
      "Blue Mazda\n",
      "Red Nissan\n",
      "Red Toyota\n",
      "Red Honda\n",
      "Red Ferrari\n",
      "Red BMW\n",
      "Red Mercedes\n",
      "Red Mazda\n",
      "Green Nissan\n",
      "Green Toyota\n",
      "Green Honda\n",
      "Green Ferrari\n",
      "Green BMW\n",
      "Green Mercedes\n",
      "Green Mazda\n",
      "Silver Nissan\n",
      "Silver Toyota\n",
      "Silver Honda\n",
      "Silver Ferrari\n",
      "Silver BMW\n",
      "Silver Mercedes\n",
      "Silver Mazda\n",
      "Black Nissan\n",
      "Black Toyota\n",
      "Black Honda\n",
      "Black Ferrari\n",
      "Black BMW\n",
      "Black Mercedes\n",
      "Black Mazda\n",
      "Yellow Nissan\n",
      "Yellow Toyota\n",
      "Yellow Honda\n",
      "Yellow Ferrari\n",
      "Yellow BMW\n",
      "Yellow Mercedes\n",
      "Yellow Mazda\n"
     ]
    }
   ],
   "source": [
    "#The list of cars\n",
    "cars = [\"Nissan\", \"Toyota\", \"Honda\", \"Ferrari\", \"BMW\", \"Mercedes\", \"Mazda\"]\n",
    "\n",
    "#The list of colors\n",
    "colors = [\"White\", \"Blue\", \"Red\", \"Green\", \"Silver\", \"Black\", \"Yellow\"]\n",
    "\n",
    "#The first loop goes over the colors\n",
    "for color in colors:\n",
    "    #The second loop goes over the cars\n",
    "    for car in cars:\n",
    "        #Print color car pair\n",
    "        print(color + \" \" + car)\n",
    "    "
   ]
  },
  {
   "cell_type": "markdown",
   "metadata": {},
   "source": [
    "As espected we obatained 49 different combinations, it is important to notice that the first loop goes over the colors and the second one (the nested loop goes over the cars).\n",
    "\n",
    "## Last words\n",
    "Ok, that’s all we will cover about loops. Now it is time for you to start coding, try to do the following:\n",
    "* Create a 3 level nested loop\n",
    "* Create a loop that uses ``` +=``` to increase the value of the cunter\n",
    "* Create a nested loop that has while and for loops inside, what go over strings and lists."
   ]
  },
  {
   "cell_type": "code",
   "execution_count": null,
   "metadata": {},
   "outputs": [],
   "source": []
  }
 ],
 "metadata": {
  "kernelspec": {
   "display_name": "Python 3",
   "language": "python",
   "name": "python3"
  },
  "language_info": {
   "codemirror_mode": {
    "name": "ipython",
    "version": 3
   },
   "file_extension": ".py",
   "mimetype": "text/x-python",
   "name": "python",
   "nbconvert_exporter": "python",
   "pygments_lexer": "ipython3",
   "version": "3.7.3"
  }
 },
 "nbformat": 4,
 "nbformat_minor": 2
}
