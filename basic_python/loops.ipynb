{
 "cells": [
  {
   "cell_type": "markdown",
   "metadata": {},
   "source": [
    "# Loops\n",
    "\n",
    "This notebook contains the basic concepts behind loops. \n",
    "\n",
    "A loop is simple a piece of code that repeats until certain condition is met.\n",
    "\n",
    "# For Loop\n",
    "Let’s start with the simplest case where we go over the elements of a list printing them to screen using a **for** loop."
   ]
  },
  {
   "cell_type": "code",
   "execution_count": 1,
   "metadata": {},
   "outputs": [
    {
     "name": "stdout",
     "output_type": "stream",
     "text": [
      "0\n",
      "1\n",
      "1\n",
      "2\n",
      "3\n",
      "5\n",
      "8\n",
      "13\n",
      "21\n",
      "I am out of the loop\n"
     ]
    }
   ],
   "source": [
    "#define the list\n",
    "my_list = [0, 1, 1, 2, 3, 5, 8, 13, 21]\n",
    "\n",
    "#loop\n",
    "for number in my_list:\n",
    "    print(number)\n",
    "\n",
    "print(\"I am out of the loop\")"
   ]
  },
  {
   "cell_type": "markdown",
   "metadata": {},
   "source": [
    "In the line of code that says ```for number in my_list:``` we are telling python that we want to create a variable called ```number``` and we want that variable to take the values of each one of the elements in the list ```my_list``` on by one.\n",
    "\n",
    "It is important to notice is that the line where the loop is created finishes with colon (**:**) and the line right after has an indentation. The indentation defines the code that should run inside the loop.\n",
    "\n",
    "# For Loops Over Strings\n",
    "In the example above the loop went over a list, but you can also make the loop fo over each element of a string, see below:"
   ]
  },
  {
   "cell_type": "code",
   "execution_count": 2,
   "metadata": {},
   "outputs": [
    {
     "name": "stdout",
     "output_type": "stream",
     "text": [
      "A\n",
      "B\n",
      "C\n"
     ]
    }
   ],
   "source": [
    "#Define the string\n",
    "short_string = \"ABC\"\n",
    "\n",
    "#The for loop\n",
    "for letter in short_string:\n",
    "    print(letter)"
   ]
  },
  {
   "cell_type": "markdown",
   "metadata": {},
   "source": [
    "# While Loops\n",
    "In the block of code below we start by initializing a variable (```counter```) with the number ```0```, then we start the loop with the line of code that says ```while counter <= 4:```. The translation of this line of code to plain english would be sometime like: **While the variable counter is less or equal than 4, run the following lines of code in a loop**."
   ]
  },
  {
   "cell_type": "code",
   "execution_count": 3,
   "metadata": {},
   "outputs": [
    {
     "name": "stdout",
     "output_type": "stream",
     "text": [
      "0 0\n",
      "1 1\n",
      "2 4\n",
      "3 9\n",
      "4 16\n"
     ]
    }
   ],
   "source": [
    "#We initialize a variable called counter with the value 0\n",
    "counter = 0\n",
    "\n",
    "#The while loop \n",
    "while counter <= 4:\n",
    "    #Print the value of counter and counter to the power of 2\n",
    "    print(counter, counter**2)\n",
    "    \n",
    "    #Increase the value of the variable counter by one\n",
    "    counter = counter + 1\n",
    "    "
   ]
  },
  {
   "cell_type": "code",
   "execution_count": 4,
   "metadata": {},
   "outputs": [
    {
     "data": {
      "text/plain": [
       "5"
      ]
     },
     "execution_count": 4,
     "metadata": {},
     "output_type": "execute_result"
    }
   ],
   "source": [
    "counter"
   ]
  },
  {
   "cell_type": "markdown",
   "metadata": {},
   "source": [
    "In this case we are printing the value **counter** and **counter**$^2$. However, the important part here is that the last line inside the loop (```counter = counter + 1```) is increasing the value of the variable **counter** by one in every loop. When this variable **counter** becomes **4** the loop's condition is met and python goes out of the loop. This can be confirmed by printing the value of the variable **counter** (now it should be 5):\n",
    "\n",
    "If you forget to add the line of code that increases the value of the variable **counter** your code will get stuck in an infinite loop. Try removing the last line inside the loop, but remember, you will need to interrupt the kernel!"
   ]
  }
 ],
 "metadata": {
  "kernelspec": {
   "display_name": "Python 3",
   "language": "python",
   "name": "python3"
  },
  "language_info": {
   "codemirror_mode": {
    "name": "ipython",
    "version": 3
   },
   "file_extension": ".py",
   "mimetype": "text/x-python",
   "name": "python",
   "nbconvert_exporter": "python",
   "pygments_lexer": "ipython3",
   "version": "3.7.3"
  }
 },
 "nbformat": 4,
 "nbformat_minor": 2
}
