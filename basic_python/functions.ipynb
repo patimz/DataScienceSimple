{
 "cells": [
  {
   "cell_type": "markdown",
   "metadata": {},
   "source": [
    "# Python Functions\n",
    "\n",
    "A function is a block of code that only runs when is called. The most common example is the one where the function just prints a sentence:"
   ]
  },
  {
   "cell_type": "code",
   "execution_count": 1,
   "metadata": {},
   "outputs": [
    {
     "name": "stdout",
     "output_type": "stream",
     "text": [
      "hello Data Science Simple!\n"
     ]
    }
   ],
   "source": [
    "def print_sentence():\n",
    "    print(\"hello Data Science Simple!\")\n",
    "    return None\n",
    "    \n",
    "print_sentence()"
   ]
  },
  {
   "cell_type": "markdown",
   "metadata": {},
   "source": [
    "This block of code prints to screen the sentence \"hello Data Science Simple!\". You might have notice that the function is returning \"None\". You can remove the last line (the return) and the function will behave in the same way. This is because in python, when return is not specified, the default return value is None.\n",
    "\n",
    "Ok, let's do something more interesting. Imagine that you want a function where the input is a number x, and you want it to return $(x^3) - x$. This function will look something like:"
   ]
  },
  {
   "cell_type": "code",
   "execution_count": 2,
   "metadata": {},
   "outputs": [],
   "source": [
    "def compute_x3_m_x(x):\n",
    "    '''This function takes in a value x and returns x^3 - x.'''\n",
    "    y = (x**3) - x\n",
    "    return y"
   ]
  },
  {
   "cell_type": "markdown",
   "metadata": {},
   "source": [
    "Now we can call the function, having as input the number 5, by simply doing:"
   ]
  },
  {
   "cell_type": "code",
   "execution_count": 3,
   "metadata": {},
   "outputs": [
    {
     "data": {
      "text/plain": [
       "120"
      ]
     },
     "execution_count": 3,
     "metadata": {},
     "output_type": "execute_result"
    }
   ],
   "source": [
    "compute_x3_m_x(5)"
   ]
  },
  {
   "cell_type": "markdown",
   "metadata": {},
   "source": [
    "If you want to print the pair of numbers x, y that belong to the curve $y = (x^3) - x$, for x in the range 1 to 10, you can call the function in a for loop doing something like:"
   ]
  },
  {
   "cell_type": "code",
   "execution_count": 4,
   "metadata": {},
   "outputs": [
    {
     "name": "stdout",
     "output_type": "stream",
     "text": [
      "1 0\n",
      "2 6\n",
      "3 24\n",
      "4 60\n",
      "5 120\n",
      "6 210\n",
      "7 336\n",
      "8 504\n",
      "9 720\n",
      "10 990\n"
     ]
    }
   ],
   "source": [
    "for i in range(1, 11):\n",
    "    print(i, compute_x3_m_x(i))"
   ]
  },
  {
   "cell_type": "markdown",
   "metadata": {},
   "source": [
    "# Docstring \n",
    "Docstring give a description of what the function is doing. The Docstring is defined by the text in between the 3 quotation marks on each side. In our case the Docstring reads: This function takes in a value x and returns x^3 - x. \n",
    "\n",
    "\n",
    "It is important that all functions have a Docstring so other people know what the function is doing. The Docstrings can be access with the .__doc__ method. In our case we would  run the following line to access the Docstring:"
   ]
  },
  {
   "cell_type": "code",
   "execution_count": 6,
   "metadata": {},
   "outputs": [
    {
     "data": {
      "text/plain": [
       "'This function takes in a value x and returns x^3 - x.'"
      ]
     },
     "execution_count": 6,
     "metadata": {},
     "output_type": "execute_result"
    }
   ],
   "source": [
    "compute_x3_m_x.__doc__"
   ]
  },
  {
   "cell_type": "markdown",
   "metadata": {},
   "source": [
    "# Last Words\n",
    "It is important to remember that the variables declared inside functions only live inside the function.\n",
    "\n",
    "Functions should be simple and perform only one task. The name should be a good descriptor of the function, and the Docstring should provide information about the function's input, output and purpose."
   ]
  },
  {
   "cell_type": "code",
   "execution_count": null,
   "metadata": {},
   "outputs": [],
   "source": []
  }
 ],
 "metadata": {
  "kernelspec": {
   "display_name": "Python 3",
   "language": "python",
   "name": "python3"
  },
  "language_info": {
   "codemirror_mode": {
    "name": "ipython",
    "version": 3
   },
   "file_extension": ".py",
   "mimetype": "text/x-python",
   "name": "python",
   "nbconvert_exporter": "python",
   "pygments_lexer": "ipython3",
   "version": "3.7.3"
  }
 },
 "nbformat": 4,
 "nbformat_minor": 2
}
