{
 "cells": [
  {
   "cell_type": "markdown",
   "metadata": {},
   "source": [
    "# Functions"
   ]
  },
  {
   "cell_type": "code",
   "execution_count": 1,
   "metadata": {},
   "outputs": [
    {
     "name": "stdout",
     "output_type": "stream",
     "text": [
      "hello Data Science Simple!\n"
     ]
    }
   ],
   "source": [
    "def print_sentence():\n",
    "    print(\"hello Data Science Simple!\")\n",
    "    return None\n",
    "    \n",
    "print_sentence()"
   ]
  },
  {
   "cell_type": "markdown",
   "metadata": {},
   "source": [
    "This block of code prints to screen the sentence \"hello Data Science Simple!\". You might have noticed that the function is returning \"None\". You can remove the last line (the return) and the function will behave in the same way. This is because in python, when return is not specified, the default returned value is None.\n",
    "\n",
    "# Arguments passed to functions"
   ]
  },
  {
   "cell_type": "code",
   "execution_count": 2,
   "metadata": {},
   "outputs": [],
   "source": [
    "def compute_x3(x):\n",
    "    y = x**3\n",
    "    return y"
   ]
  },
  {
   "cell_type": "code",
   "execution_count": 3,
   "metadata": {},
   "outputs": [
    {
     "data": {
      "text/plain": [
       "1000"
      ]
     },
     "execution_count": 3,
     "metadata": {},
     "output_type": "execute_result"
    }
   ],
   "source": [
    "compute_x3(10)"
   ]
  },
  {
   "cell_type": "code",
   "execution_count": 4,
   "metadata": {},
   "outputs": [],
   "source": [
    "def construct_sentence(car_make, color):\n",
    "    sentence = \"I drive a \" + color + \" \" + car_make \n",
    "    return sentence"
   ]
  },
  {
   "cell_type": "code",
   "execution_count": 5,
   "metadata": {},
   "outputs": [
    {
     "data": {
      "text/plain": [
       "'I drive a blue Honda'"
      ]
     },
     "execution_count": 5,
     "metadata": {},
     "output_type": "execute_result"
    }
   ],
   "source": [
    "construct_sentence(\"Honda\", \"blue\")"
   ]
  },
  {
   "cell_type": "markdown",
   "metadata": {},
   "source": [
    "# Default arguments"
   ]
  },
  {
   "cell_type": "code",
   "execution_count": 6,
   "metadata": {},
   "outputs": [],
   "source": [
    "def construct_new_sentence(food, when=\"every day\"):\n",
    "    sentence = \"I eat \" + food + \" \" + when\n",
    "    return sentence"
   ]
  },
  {
   "cell_type": "code",
   "execution_count": 7,
   "metadata": {},
   "outputs": [
    {
     "data": {
      "text/plain": [
       "'I eat pizza every day'"
      ]
     },
     "execution_count": 7,
     "metadata": {},
     "output_type": "execute_result"
    }
   ],
   "source": [
    "construct_new_sentence(\"pizza\")"
   ]
  },
  {
   "cell_type": "code",
   "execution_count": 8,
   "metadata": {},
   "outputs": [
    {
     "data": {
      "text/plain": [
       "'I eat pizza on Tuesdays'"
      ]
     },
     "execution_count": 8,
     "metadata": {},
     "output_type": "execute_result"
    }
   ],
   "source": [
    "construct_new_sentence(\"pizza\", when=\"on Tuesdays\")"
   ]
  },
  {
   "cell_type": "markdown",
   "metadata": {},
   "source": [
    "# A function can call other functions"
   ]
  },
  {
   "cell_type": "code",
   "execution_count": 9,
   "metadata": {},
   "outputs": [
    {
     "data": {
      "text/plain": [
       "'I drive a black Toyota and I eat burgers every day'"
      ]
     },
     "execution_count": 9,
     "metadata": {},
     "output_type": "execute_result"
    }
   ],
   "source": [
    "def put_together_sentences():\n",
    "    \n",
    "    initial = construct_sentence(\"Toyota\", \"black\")\n",
    "    final = construct_new_sentence(\"burgers\")\n",
    "    full_sentence =  initial + \" and \" + final\n",
    "    \n",
    "    return full_sentence\n",
    "\n",
    "put_together_sentences()"
   ]
  },
  {
   "cell_type": "code",
   "execution_count": 10,
   "metadata": {},
   "outputs": [],
   "source": [
    "#initial"
   ]
  },
  {
   "cell_type": "markdown",
   "metadata": {},
   "source": [
    "# Docstring \n",
    "Docstring give a description of what the function is doing. The Docstring is defined by the text in between the 3 quotation marks on each side.\n",
    "\n",
    "It is important that all functions have a Docstring so other people know what the function is doing. The Docstrings can be access with the .__doc__ method, see below:"
   ]
  },
  {
   "cell_type": "code",
   "execution_count": 11,
   "metadata": {},
   "outputs": [
    {
     "name": "stdout",
     "output_type": "stream",
     "text": [
      "\n",
      "    This function returns the string \"I like Python\"\n",
      "    \n"
     ]
    }
   ],
   "source": [
    "def last_function():\n",
    "    '''\n",
    "    This function returns the string \"I like Python\"\n",
    "    '''\n",
    "    a_string = \"I like Python\"\n",
    "    return a_string\n",
    "\n",
    "print(last_function.__doc__)"
   ]
  },
  {
   "cell_type": "markdown",
   "metadata": {},
   "source": [
    "# Last Words\n",
    "It is important to remember that the variables declared inside functions only live inside the function.\n",
    "\n",
    "Functions should be simple and perform only one task. The name should be a good descriptor of the function, and the Docstring should provide information about the function's input, output and purpose."
   ]
  },
  {
   "cell_type": "code",
   "execution_count": null,
   "metadata": {},
   "outputs": [],
   "source": []
  }
 ],
 "metadata": {
  "kernelspec": {
   "display_name": "Python 3",
   "language": "python",
   "name": "python3"
  },
  "language_info": {
   "codemirror_mode": {
    "name": "ipython",
    "version": 3
   },
   "file_extension": ".py",
   "mimetype": "text/x-python",
   "name": "python",
   "nbconvert_exporter": "python",
   "pygments_lexer": "ipython3",
   "version": "3.7.3"
  }
 },
 "nbformat": 4,
 "nbformat_minor": 2
}
