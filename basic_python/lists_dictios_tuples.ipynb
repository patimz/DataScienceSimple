{
 "cells": [
  {
   "cell_type": "markdown",
   "metadata": {},
   "source": [
    "# Lists Dictionaries and Tuples\n",
    "This notebook contains the basic concepts behind lists, tuples and dictionaries. We will start with lists.\n",
    "\n",
    "## Lists\n",
    "A python list is nothing more than a sequence of variables, usually the elements of a list are numbers or strings, below we have an example of both."
   ]
  },
  {
   "cell_type": "code",
   "execution_count": 1,
   "metadata": {},
   "outputs": [
    {
     "name": "stdout",
     "output_type": "stream",
     "text": [
      "[1, 2, 3, 4]\n",
      "['one', 'two', 'three', 'four']\n"
     ]
    }
   ],
   "source": [
    "a = [1, 2, 3, 4]\n",
    "b = [\"one\", \"two\", \"three\", \"four\"]\n",
    "print(a)\n",
    "print(b)"
   ]
  },
  {
   "cell_type": "markdown",
   "metadata": {},
   "source": [
    "### List Elements\n",
    "In a list each element is assigned a position (just a number), This allows you to access a particular element in the list. It is important to mention that the position of the first element is always 0. \n",
    "\n",
    "For example in the code below we print to screen the first and third element of the list ```b```:"
   ]
  },
  {
   "cell_type": "code",
   "execution_count": 2,
   "metadata": {},
   "outputs": [
    {
     "name": "stdout",
     "output_type": "stream",
     "text": [
      "one\n",
      "three\n"
     ]
    }
   ],
   "source": [
    "print(b[0])\n",
    "print(b[2])"
   ]
  },
  {
   "attachments": {},
   "cell_type": "markdown",
   "metadata": {},
   "source": [
    "Now, the last element of the list can be access by its real position or by the position ```-1```, see below:"
   ]
  },
  {
   "cell_type": "code",
   "execution_count": 3,
   "metadata": {},
   "outputs": [
    {
     "name": "stdout",
     "output_type": "stream",
     "text": [
      "four\n",
      "four\n"
     ]
    }
   ],
   "source": [
    "print(b[-1])\n",
    "print(b[3])"
   ]
  },
  {
   "cell_type": "markdown",
   "metadata": {},
   "source": [
    "Futhermore, you can also access a range of elements (selecting a subset of the list) by simple specifying the first and last element in the range you want, see below:"
   ]
  },
  {
   "cell_type": "code",
   "execution_count": 4,
   "metadata": {},
   "outputs": [
    {
     "name": "stdout",
     "output_type": "stream",
     "text": [
      "['d', 'e', 'f']\n"
     ]
    }
   ],
   "source": [
    "c = [\"a\", \"b\", \"c\", \"d\", \"e\", \"f\", \"g\", \"h\", \"i\", \"j\"]\n",
    "print(c[3:6])"
   ]
  },
  {
   "cell_type": "markdown",
   "metadata": {},
   "source": [
    "You can also add an element to a list using ```.append()``` as follows:"
   ]
  },
  {
   "cell_type": "code",
   "execution_count": 5,
   "metadata": {},
   "outputs": [
    {
     "name": "stdout",
     "output_type": "stream",
     "text": [
      "[1, 2, 3, 4, 5, 6]\n"
     ]
    }
   ],
   "source": [
    "e = [1, 2, 3, 4]\n",
    "e.append(5)\n",
    "e.append(6)\n",
    "print(e)"
   ]
  },
  {
   "cell_type": "markdown",
   "metadata": {},
   "source": [
    "While if you want to remove an element from a list you can use ```.remove()``` as follows:"
   ]
  },
  {
   "cell_type": "code",
   "execution_count": 6,
   "metadata": {},
   "outputs": [
    {
     "name": "stdout",
     "output_type": "stream",
     "text": [
      "['one', 'two', 'three']\n"
     ]
    }
   ],
   "source": [
    "g = [\"one\", \"two\", \"bad_element\", \"three\"]\n",
    "g.remove(\"bad_element\")\n",
    "print(g)"
   ]
  },
  {
   "cell_type": "markdown",
   "metadata": {},
   "source": [
    "It is also possible to modify the value of an element, see below:"
   ]
  },
  {
   "cell_type": "code",
   "execution_count": 7,
   "metadata": {},
   "outputs": [
    {
     "name": "stdout",
     "output_type": "stream",
     "text": [
      "['one', 'two', 'bad data', 'fout']\n",
      "['one', 'two', 'three', 'fout']\n"
     ]
    }
   ],
   "source": [
    "example = [\"one\", \"two\", \"bad data\", \"fout\"]\n",
    "print(example)\n",
    "example[2] = \"three\"\n",
    "print(example)"
   ]
  },
  {
   "cell_type": "markdown",
   "metadata": {},
   "source": [
    "### Length of the list\n",
    "You can find how many elements your list has using the function ```len()``` in the following way:"
   ]
  },
  {
   "cell_type": "code",
   "execution_count": 8,
   "metadata": {},
   "outputs": [
    {
     "name": "stdout",
     "output_type": "stream",
     "text": [
      "['one', 'two', 'three']\n",
      "3\n"
     ]
    }
   ],
   "source": [
    "print(g)\n",
    "print(len(g))"
   ]
  },
  {
   "cell_type": "markdown",
   "metadata": {},
   "source": [
    "### Ziping Lists\n",
    "One cool, and useful thing, is to zip two lists together. You can do it using ```zip```, see below:"
   ]
  },
  {
   "cell_type": "code",
   "execution_count": 9,
   "metadata": {},
   "outputs": [
    {
     "name": "stdout",
     "output_type": "stream",
     "text": [
      "[(1, 'one'), (2, 'two'), (3, 'three'), (4, 'four')]\n"
     ]
    }
   ],
   "source": [
    "h = [1, 2, 3, 4]\n",
    "i = [\"one\", \"two\", \"three\", \"four\"]\n",
    "j = list(zip(h, i))\n",
    "print(j)"
   ]
  },
  {
   "cell_type": "markdown",
   "metadata": {},
   "source": [
    "It is important to notice that this is a case where ```j``` is a list of lists. Now, we can unzip the list by doing:"
   ]
  },
  {
   "cell_type": "code",
   "execution_count": 10,
   "metadata": {},
   "outputs": [
    {
     "name": "stdout",
     "output_type": "stream",
     "text": [
      "(1, 2, 3, 4)\n",
      "('one', 'two', 'three', 'four')\n"
     ]
    }
   ],
   "source": [
    "y, z = list(zip(*j))\n",
    "print(y)\n",
    "print(z)"
   ]
  },
  {
   "attachments": {},
   "cell_type": "markdown",
   "metadata": {},
   "source": [
    "### List Concatenation\n",
    "Two lists can be concatenated using the ```+``` operator:"
   ]
  },
  {
   "cell_type": "code",
   "execution_count": 11,
   "metadata": {},
   "outputs": [
    {
     "name": "stdout",
     "output_type": "stream",
     "text": [
      "[1, 2, 3, 4, 5, 6]\n"
     ]
    }
   ],
   "source": [
    "k = [1, 2, 3]\n",
    "l = [4, 5, 6]\n",
    "m = k + l\n",
    "print(m)"
   ]
  },
  {
   "cell_type": "markdown",
   "metadata": {},
   "source": [
    "## Dictionaries\n",
    "Dictionaries are similar to lists, however, the elements are not ordered, and each element consists of a **key-value** pair. The elements are warped around curly brackets ```{}```, and separated by comas. Below you will find a dictionary containing names and ages:"
   ]
  },
  {
   "cell_type": "code",
   "execution_count": 12,
   "metadata": {},
   "outputs": [
    {
     "name": "stdout",
     "output_type": "stream",
     "text": [
      "{'Camila': 27, 'Nicolas': 30, 'David': 25, 'Julia': 27, 'Karen': 35}\n"
     ]
    }
   ],
   "source": [
    "dictio_1 = {\"Camila\": 27, \"Nicolas\": 30, \"David\": 25, \"Julia\": 27, \"Karen\": 35}\n",
    "print(dictio_1)"
   ]
  },
  {
   "cell_type": "markdown",
   "metadata": {},
   "source": [
    "In our case the keys are ```Camila```, ```Nicolas```, ```David```, ```Julia```, and ```Karen```, while the corresponding values are ```27```, ```30```, ```25```, ```27```, and ```35``` respectively. \n",
    "\n",
    "As an example we can access the values linked to the keys ```Camila``` and ```Nicolas``` (simply find how old they are) in the folowing way:"
   ]
  },
  {
   "cell_type": "code",
   "execution_count": 13,
   "metadata": {},
   "outputs": [
    {
     "name": "stdout",
     "output_type": "stream",
     "text": [
      "27\n",
      "30\n"
     ]
    }
   ],
   "source": [
    "print(dictio_1[\"Camila\"])\n",
    "print(dictio_1[\"Nicolas\"])"
   ]
  },
  {
   "cell_type": "markdown",
   "metadata": {},
   "source": [
    "Now, lets say that you want to add one more element to the dictionary, in this case the **key-value** pair **Satoshi-21**. You can easily do this by doing:"
   ]
  },
  {
   "cell_type": "code",
   "execution_count": 14,
   "metadata": {},
   "outputs": [
    {
     "name": "stdout",
     "output_type": "stream",
     "text": [
      "{'Camila': 27, 'Nicolas': 30, 'David': 25, 'Julia': 27, 'Karen': 35, 'Satoshi': 21}\n"
     ]
    }
   ],
   "source": [
    "dictio_1[\"Satoshi\"] = 21\n",
    "print(dictio_1)"
   ]
  },
  {
   "cell_type": "markdown",
   "metadata": {},
   "source": [
    "If you want to know how many elements the dictionary has, you can use the function ```len()``` in the same way we used it for lists:"
   ]
  },
  {
   "cell_type": "code",
   "execution_count": 15,
   "metadata": {},
   "outputs": [
    {
     "name": "stdout",
     "output_type": "stream",
     "text": [
      "6\n"
     ]
    }
   ],
   "source": [
    "print(len(dictio_1))"
   ]
  },
  {
   "cell_type": "markdown",
   "metadata": {},
   "source": [
    "Finally you can obtain all the **keys** of the dictionary in the form of a list using the ```keys()``` method:"
   ]
  },
  {
   "cell_type": "code",
   "execution_count": 16,
   "metadata": {},
   "outputs": [
    {
     "name": "stdout",
     "output_type": "stream",
     "text": [
      "['Camila', 'Nicolas', 'David', 'Julia', 'Karen', 'Satoshi']\n"
     ]
    }
   ],
   "source": [
    "key_list = list(dictio_1.keys())\n",
    "print(key_list)"
   ]
  },
  {
   "attachments": {},
   "cell_type": "markdown",
   "metadata": {},
   "source": [
    "## Tuples\n",
    "Tuples are similar to list, with the difference that they are immutable. Tuples use parenthesis ```()```, see below:"
   ]
  },
  {
   "cell_type": "code",
   "execution_count": 17,
   "metadata": {},
   "outputs": [
    {
     "name": "stdout",
     "output_type": "stream",
     "text": [
      "(1, 2, 3, 4)\n"
     ]
    }
   ],
   "source": [
    "tup_1 = (1, 2, 3, 4)\n",
    "print(tup_1)"
   ]
  },
  {
   "cell_type": "markdown",
   "metadata": {},
   "source": [
    "### Tuple Elements\n",
    "In a tuple each element is assigned a position (just a number), This allows you to access a particular element in the tuple. It is important to mention that the position of the first element is always 0. \n",
    "\n",
    "For example in the code below we print to screen the first and third element of the tuple ```tup_2```:"
   ]
  },
  {
   "cell_type": "code",
   "execution_count": 30,
   "metadata": {},
   "outputs": [
    {
     "name": "stdout",
     "output_type": "stream",
     "text": [
      "Nissan\n",
      "Toyota\n"
     ]
    }
   ],
   "source": [
    "tup_2 = (\"Nissan\", \"Mazda\", \"Toyota\", \"Ferrari\")\n",
    "print(tup_2[0])\n",
    "print(tup_2[2])"
   ]
  },
  {
   "attachments": {},
   "cell_type": "markdown",
   "metadata": {},
   "source": [
    "Now, the last element of tuple also has the position ```-1```. Therefore, in the case of our tuple ```tup_2```, we can access the last element in the following two ways:"
   ]
  },
  {
   "cell_type": "code",
   "execution_count": 27,
   "metadata": {},
   "outputs": [
    {
     "name": "stdout",
     "output_type": "stream",
     "text": [
      "Ferrari\n",
      "Ferrari\n"
     ]
    }
   ],
   "source": [
    "print(tup_2[-1])\n",
    "print(tup_2[3])"
   ]
  },
  {
   "attachments": {},
   "cell_type": "markdown",
   "metadata": {},
   "source": [
    "Futhermore, you can also access a range of elements (selecting a subset of the tuple) by simple specifying the first and last element in the range you want. In the example below we access the first 3 elements of the tuple ```tup_2```:"
   ]
  },
  {
   "cell_type": "code",
   "execution_count": 29,
   "metadata": {},
   "outputs": [
    {
     "name": "stdout",
     "output_type": "stream",
     "text": [
      "('Nissan', 'Mazada', 'Toyota')\n"
     ]
    }
   ],
   "source": [
    "print(tup_2[0:3])"
   ]
  },
  {
   "cell_type": "markdown",
   "metadata": {},
   "source": [
    "### Length of the Tuple\n",
    "You can find how many elements your tuple has using the function ```len()```, In the following lines we print to screen the number of elements in the tuple ```tup_2```:"
   ]
  },
  {
   "cell_type": "code",
   "execution_count": 20,
   "metadata": {},
   "outputs": [
    {
     "name": "stdout",
     "output_type": "stream",
     "text": [
      "4\n"
     ]
    }
   ],
   "source": [
    "print(len(tup_2))"
   ]
  },
  {
   "cell_type": "markdown",
   "metadata": {},
   "source": [
    "### Ziping Tuples\n",
    "We can zip two tuples in the same way we zipped two lists using the function ```zip()```, see below:"
   ]
  },
  {
   "cell_type": "code",
   "execution_count": 21,
   "metadata": {},
   "outputs": [
    {
     "name": "stdout",
     "output_type": "stream",
     "text": [
      "((1, 'one'), (2, 'two'), (3, 'three'), (4, 'four'))\n"
     ]
    }
   ],
   "source": [
    "tup_3 = [1, 2, 3, 4]\n",
    "tup_4 = [\"one\", \"two\", \"three\", \"four\"]\n",
    "tup_5 = tuple(zip(tup_3, tup_4))\n",
    "print(tup_5)"
   ]
  },
  {
   "attachments": {},
   "cell_type": "markdown",
   "metadata": {},
   "source": [
    "We can unzip a tuple of tuples into two tuples in the following way:"
   ]
  },
  {
   "cell_type": "code",
   "execution_count": 22,
   "metadata": {},
   "outputs": [
    {
     "name": "stdout",
     "output_type": "stream",
     "text": [
      "('mazda', 'Toyota', 'Nissan', 'Chevrolet')\n",
      "('mazda', 'Toyota', 'Nissan', 'Chevrolet')\n"
     ]
    }
   ],
   "source": [
    "tup_6 = ((\"mazda\", \"Mazda 2\"), (\"Toyota\", \"Rav 4\"), (\"Nissan\", \"Nissan Sentra\"), (\"Chevrolet\", \"Camaro\"))\n",
    "tup_7, tup_8 = tuple(zip(*tup_6))\n",
    "print(tup_7)\n",
    "print(tup_7)"
   ]
  },
  {
   "cell_type": "markdown",
   "metadata": {},
   "source": [
    "### Tuple Concatenation\n",
    "Two tuples can be concatenated using the ```+``` operator, see below:\n"
   ]
  },
  {
   "cell_type": "code",
   "execution_count": 23,
   "metadata": {},
   "outputs": [
    {
     "name": "stdout",
     "output_type": "stream",
     "text": [
      "(1, 2, 3, 4, 5, 6, 7, 8)\n"
     ]
    }
   ],
   "source": [
    "tup_9 = (1, 2, 3, 4)\n",
    "tup_10 = (5, 6, 7, 8)\n",
    "print(tup_9 + tup_10)"
   ]
  },
  {
   "cell_type": "markdown",
   "metadata": {},
   "source": [
    "### Final Words on Tuples\n",
    "Clearly tuples and lists are very similar. However, as we mentioned before, you cannot change the content of a tuple. Try it your self: create a tuple and try to modify one of its elements.\n"
   ]
  }
 ],
 "metadata": {
  "kernelspec": {
   "display_name": "Python 3",
   "language": "python",
   "name": "python3"
  },
  "language_info": {
   "codemirror_mode": {
    "name": "ipython",
    "version": 3
   },
   "file_extension": ".py",
   "mimetype": "text/x-python",
   "name": "python",
   "nbconvert_exporter": "python",
   "pygments_lexer": "ipython3",
   "version": "3.7.3"
  }
 },
 "nbformat": 4,
 "nbformat_minor": 2
}
