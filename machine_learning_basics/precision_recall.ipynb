{
 "cells": [
  {
   "cell_type": "markdown",
   "metadata": {},
   "source": [
    "# Precision and Recall\n",
    "Precision and recall is used to measure the performance of a classifier. Precision (P) is defined as the number of true positives (TP) divided by the sum of TP and false positives (FP):\n",
    "\n",
    "$P = \\frac{TP}{TP + FP}$\n",
    "\n",
    "While the recall (R) is defined as the TP divided by the sum of TP and false negatives (FN):\n",
    "\n",
    "$R = \\frac{TP}{TP + FN}$\n",
    "\n",
    "Both have values between 0 and 1.\n",
    "\n",
    "As an example, lets say that you have developed a model that tries to predict if someone is infected with a virus that has spread all around the world (0 for not infected and 1 for infected). In order to measure the performance of your model you find a testing set (a group of people that you know for a fact if they are infected or not) and you use your model to predict who is infected. The results are the following:\n",
    "```\n",
    "Test_set    = [1, 1, 1, 1, 1, 0, 0, 0, 0, 0]\n",
    "Predictions = [0, 0, 1, 1, 1, 1, 0, 0, 0, 0]\n",
    "```\n",
    "The model’s precision and recall is:\n",
    "```\n",
    "P = 3/(3+1) = 0.75\n",
    "R = 3/(3+2) = 0.6\n",
    "```\n",
    "\n",
    "However, your model, in this case a classifier, besides giving you a prediction (0s and 1s), it can also give you a probability (a number between 0 and 1). In that case you can choose a threshold (a number between 0 and 1) to create your predictions by assigning 1 to any probability equal or greater than your threshold, and 0 otherwise. For example, if you choose your threshold to be 0.6 and you have the following set of probabilities:\n",
    "```probs = [0.3, 0.65, 0.70, 0.2]```,\n",
    "then your predictions would be:\n",
    "```predictions = [0, 1, 1, 0]```\n",
    "\n",
    "\n",
    "Having the probabilities allows you to plot curves for precision and recall as a function of the threshold. This provides an easy way to have a good understanding of how your model performs, and make a good decision about which threshold you should pick.\n",
    "\n",
    "As an example, we are going to generate two fake lists: one for the true target values (the testing set), and a second one with the model probabilities. This is done using the function ```generate_dummy_probs_true_y()```, located in the **mlb_misc_functions.py** file, as follows:"
   ]
  },
  {
   "cell_type": "code",
   "execution_count": 1,
   "metadata": {},
   "outputs": [],
   "source": [
    "#Import functions\n",
    "from sklearn.metrics import precision_recall_curve, precision_score, recall_score\n",
    "import matplotlib.pyplot as plt\n",
    "from mlb_misc_functions import generate_dummy_probs_true_y "
   ]
  },
  {
   "cell_type": "markdown",
   "metadata": {},
   "source": [
    "# Precision and recall scores"
   ]
  },
  {
   "cell_type": "code",
   "execution_count": 2,
   "metadata": {},
   "outputs": [
    {
     "name": "stdout",
     "output_type": "stream",
     "text": [
      "0.8\n",
      "0.5\n"
     ]
    }
   ],
   "source": [
    "target = [1, 1, 1, 1, 1, 1, 1, 1, 0, 0]\n",
    "predic = [1, 1, 1, 1, 0, 0, 0, 0, 0, 1]\n",
    "\n",
    "precision = precision_score(target, predic)\n",
    "recall = recall_score(target, predic)\n",
    "\n",
    "print(precision)\n",
    "print(recall)"
   ]
  },
  {
   "cell_type": "markdown",
   "metadata": {},
   "source": [
    "# Precision and recall curves"
   ]
  },
  {
   "cell_type": "code",
   "execution_count": 3,
   "metadata": {},
   "outputs": [
    {
     "name": "stdout",
     "output_type": "stream",
     "text": [
      "[0, 0, 1]\n",
      "[0.18222920170226942, 0.44350813306820425, 0.9527310069762089]\n"
     ]
    }
   ],
   "source": [
    "#create dummy data\n",
    "target, probs = generate_dummy_probs_true_y()\n",
    "\n",
    "print(target[:3])\n",
    "print(probs[:3])"
   ]
  },
  {
   "cell_type": "code",
   "execution_count": 4,
   "metadata": {},
   "outputs": [
    {
     "name": "stdout",
     "output_type": "stream",
     "text": [
      "[0.49924977 0.52966776 0.52972399]\n",
      "[1.         0.99979964 0.99979964]\n",
      "[0.001      0.00116043 0.00120144]\n"
     ]
    }
   ],
   "source": [
    "#Obtain precision recall and thresholds\n",
    "precision, recall, thresholds = precision_recall_curve(target, probs)\n",
    "\n",
    "print(precision[:3])\n",
    "print(recall[:3])\n",
    "print(thresholds[:3])"
   ]
  },
  {
   "cell_type": "code",
   "execution_count": 5,
   "metadata": {},
   "outputs": [
    {
     "name": "stdout",
     "output_type": "stream",
     "text": [
      "8830\n",
      "8830\n",
      "8829\n"
     ]
    }
   ],
   "source": [
    "#Check the number of elements in each list\n",
    "print(len(precision))\n",
    "print(len(recall))\n",
    "print(len(thresholds))"
   ]
  },
  {
   "cell_type": "markdown",
   "metadata": {},
   "source": [
    "The lists ```precision``` and ```recall``` have one more element that the list ``` thresholds```! The reason is that the last two elements of these lists are artificially created or “fake”. In theory, when the threshold is 1, the precision and recall should have values of 1 and 0 respectively."
   ]
  },
  {
   "cell_type": "code",
   "execution_count": 6,
   "metadata": {},
   "outputs": [
    {
     "name": "stdout",
     "output_type": "stream",
     "text": [
      "1.0\n",
      "0.0\n",
      "0.9999\n"
     ]
    }
   ],
   "source": [
    "#check the last element of each list\n",
    "print(precision[-1])\n",
    "print(recall[-1])\n",
    "print(thresholds[-1])"
   ]
  },
  {
   "cell_type": "code",
   "execution_count": 7,
   "metadata": {},
   "outputs": [],
   "source": [
    "precision = precision[:-1]\n",
    "recall = recall[:-1]"
   ]
  },
  {
   "cell_type": "code",
   "execution_count": 8,
   "metadata": {},
   "outputs": [
    {
     "data": {
      "image/png": "[encoded data removed]",
      "text/plain": [
       "<Figure size 576x432 with 1 Axes>"
      ]
     },
     "metadata": {
      "needs_background": "light"
     },
     "output_type": "display_data"
    }
   ],
   "source": [
    "#plot precision and recall as function of threshold\n",
    "plt.figure(figsize=(8,6))\n",
    "plt.plot(thresholds, precision, label=\"Precision\")\n",
    "plt.plot(thresholds, recall, label=\"Recall\")\n",
    "\n",
    "#Set the x and y axis label\n",
    "plt.xlabel(\"Threshold\", fontsize=18)\n",
    "plt.ylabel(\"Precision and Recall\", fontsize=18)\n",
    "\n",
    "#Other parameters\n",
    "plt.xticks(fontsize=14)\n",
    "plt.yticks(fontsize=14)\n",
    "plt.legend()\n",
    "plt.show()"
   ]
  },
  {
   "cell_type": "markdown",
   "metadata": {},
   "source": [
    "That’s how typical precision recall curves look like: as recall decreases precision increases. The figure shows that close to ```threshold = 0```, recall is almost 1 and the precision is low. Meaning that while you will catch all the positive cases, you will be wrong a lot. On the other hand, when ```threshold = 1``` precision goes to 1 and recall goes to 0, meaning that while you will miss almost all the positive cases, you are highly likely to be right in the few cases you prediction comes back as 1.\n",
    "\n",
    "Precision sometimes is plotted as a function of recall, or vice versa, the plot is shown below:"
   ]
  },
  {
   "cell_type": "code",
   "execution_count": null,
   "metadata": {},
   "outputs": [],
   "source": [
    "plt.plot(precision, recall)\n",
    "plt.xlabel(\"Precision\", fontsize=18)\n",
    "plt.ylabel(\"Recall\", fontsize=18)\n",
    "plt.xticks(fontsize=14)\n",
    "plt.yticks(fontsize=14)\n",
    "plt.show()"
   ]
  },
  {
   "cell_type": "markdown",
   "metadata": {},
   "source": [
    "# Final Words\n",
    "\n",
    "Precision and recall curves have an inverse relation, as one increases the other one decreases. This is always the case and is the tradeoff that all classifiers have. Therefore, you need to pick up a precision-recall pair based on your needs. \n",
    "\n",
    "Going back to our model that tries to predict if someone is infected with a virus or not, if you are interested in having a high probability of being right when your model predicts that someone is infected, you need to select a high threshold for your model. On the other hand, if your goal is that your model catches most of the infected individuals, you need to set a low threshold.\n",
    "\n",
    "I recommend you reading the documentation of the ```precision_recall_curve()``` function [here]( https://scikit-learn.org/stable/modules/generated/sklearn.metrics.precision_recall_curve.html)."
   ]
  },
  {
   "cell_type": "code",
   "execution_count": null,
   "metadata": {},
   "outputs": [],
   "source": []
  }
 ],
 "metadata": {
  "kernelspec": {
   "display_name": "Python 3",
   "language": "python",
   "name": "python3"
  },
  "language_info": {
   "codemirror_mode": {
    "name": "ipython",
    "version": 3
   },
   "file_extension": ".py",
   "mimetype": "text/x-python",
   "name": "python",
   "nbconvert_exporter": "python",
   "pygments_lexer": "ipython3",
   "version": "3.7.3"
  }
 },
 "nbformat": 4,
 "nbformat_minor": 2
}
