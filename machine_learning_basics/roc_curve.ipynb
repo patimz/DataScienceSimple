{
 "cells": [
  {
   "cell_type": "markdown",
   "metadata": {},
   "source": [
    "# ROC\n",
    "\n",
    "The ROC (Receiver operating characteristic) curve is a tool used to measure the performance of a classifier. The curve is created by plotting the **true positive rate** (TPR) Vs. the **false positive rate** (FPR), these two are defined as:\n",
    "\n",
    "* $TPR = \\frac{TP}{TP + FN}$\n",
    "* $FPR = \\frac{FP}{FP + TN}$\n",
    "\n",
    "Where $TP$, $FN$, $FP$, and $TN$ denote true positives, false negatives, false positives, and true negatives, respectively. It is important to mention that the reason we can draw a ROC curve is because **TPR** and **FPR** are functions of the threshold used in the classifier.\n",
    "\n",
    "The nice thing about using the ROC curve to measure your model's performance is that if you have several models, you can draw their ROC curves in the same plot and compare them. Furthermore, the area under the ROC curve tells us how good the classifier is. An area of 1 will denote the perfect classifier, while an area of 0.5 denotes that the model has no prediction capabilities.\n",
    "\n",
    "## Data Creation\n",
    "In the following block of code we import the functions we will use to exhibit how to use the ROC curve when comparing two models."
   ]
  },
  {
   "cell_type": "code",
   "execution_count": 1,
   "metadata": {},
   "outputs": [],
   "source": [
    "#Import functions\n",
    "from mlb_misc_functions import generate_dummy_probs_true_y, create_dummy_scores\n",
    "from sklearn.metrics import roc_curve, roc_auc_score\n",
    "import matplotlib.pyplot as plt"
   ]
  },
  {
   "attachments": {},
   "cell_type": "markdown",
   "metadata": {},
   "source": [
    "Let’s imagine that you are in charge of comparing the performance of two classifiers, you have the following data:\n",
    "* ```target```: a list with the targets for a test set.\n",
    "*  ```probs_model1```: a list with the probabilities (scores from 0 to 1) obtained by model 1.\n",
    "*  ```probs_model2```: a list with the probabilities (scores from 0 to 1) obtained by model 2.\n",
    "\n",
    "Each one of the lists mentioned above have 10,000 elements. In the following block of code we create our toy data:"
   ]
  },
  {
   "cell_type": "code",
   "execution_count": 2,
   "metadata": {},
   "outputs": [],
   "source": [
    "#Create targets for both models and the probabilities for model1\n",
    "target, probs_model1 = generate_dummy_probs_true_y()\n",
    "\n",
    "#Create probabilities for model 2\n",
    "probs_model2 = create_dummy_scores(10000)"
   ]
  },
  {
   "cell_type": "markdown",
   "metadata": {},
   "source": [
    "Let's take a look at the first 3 elements of each list:"
   ]
  },
  {
   "cell_type": "code",
   "execution_count": 3,
   "metadata": {},
   "outputs": [
    {
     "name": "stdout",
     "output_type": "stream",
     "text": [
      "targets:  [1, 0, 0]\n",
      "model 1 probabilities:  [0.8432862047592738, 0.37394198381398114, 0.22484170972081138]\n",
      "model 2 probabilities:  [0.10414595876498689, 0.7900950766903548, 0.2916660481728408]\n"
     ]
    }
   ],
   "source": [
    "#Print the first 3 elements of the 3 lists we generated in the block of code above.\n",
    "print(\"targets: \", target[:3])\n",
    "print(\"model 1 probabilities: \", probs_model1[:3])\n",
    "print(\"model 2 probabilities: \", probs_model2[:3])"
   ]
  },
  {
   "cell_type": "markdown",
   "metadata": {},
   "source": [
    "## Model Performance Comparison\n",
    "\n",
    "In order to make a performance comparison between both models we will plot the ROC curves of both models in the same graph. \n",
    "\n",
    "In the block of code below we generate the FPR, TPR, and the thresholds for both models using the function ```roc_curve()```. This function takes 2 arguments:\n",
    "\n",
    "1. The targets\n",
    "2. The model's probabilities"
   ]
  },
  {
   "cell_type": "code",
   "execution_count": 4,
   "metadata": {},
   "outputs": [],
   "source": [
    "#Obtain FPR, TPR and thresholds for model 1 and 2\n",
    "fpr_model1, tpr_model1, thresh_model1 = roc_curve(target, probs_model1)\n",
    "fpr_model2, tpr_model2, thresh_model2 = roc_curve(target, probs_model2)"
   ]
  },
  {
   "cell_type": "markdown",
   "metadata": {},
   "source": [
    "It is important to mention the following:\n",
    "\n",
    "* We passed 2 arguments to the function ```roc_curve()```, the targets and the model's probabilities (scores). However, it is possible to pass other arguments to this function, see [here](https://scikit-learn.org/stable/modules/generated/sklearn.metrics.roc_curve.html#sklearn.metrics.roc_curve) for more information about it.\n",
    "\n",
    "* The function ```roc_curve``` returns 3 lists: FPR, TRP and thresholds. In this notebook we will only use FPR and TRP. However, the thresholds can be used to generate plot FPR and TPR Vs. threshold curves. \n",
    "\n",
    "## Plot of the ROC curves\n",
    "In the following block of code we plot both ROC curves in one graph"
   ]
  },
  {
   "cell_type": "code",
   "execution_count": 5,
   "metadata": {},
   "outputs": [
    {
     "data": {
      "image/png": "[encoded data removed]",
      "text/plain": [
       "<Figure size 360x360 with 1 Axes>"
      ]
     },
     "metadata": {
      "needs_background": "light"
     },
     "output_type": "display_data"
    }
   ],
   "source": [
    "#Plot ROC curves\n",
    "plt.figure(figsize=(5, 5))\n",
    "plt.scatter(fpr_model1, tpr_model1, label=\"Model 1\", s=10)\n",
    "plt.scatter(fpr_model2, tpr_model2, label=\"Model 2\", s=10)\n",
    "plt.xlabel(\"False positive rate\", fontsize=18)\n",
    "plt.ylabel(\"True positive rate\", fontsize=18)\n",
    "plt.xticks(fontsize=14)\n",
    "plt.yticks(fontsize=14)\n",
    "plt.legend()\n",
    "plt.show()"
   ]
  },
  {
   "cell_type": "markdown",
   "metadata": {},
   "source": [
    "As can be seen the blue line (model 1) is on top of the orange line (model 2), this indicates that model 1 exhibits a better performance than model 2.\n",
    "\n",
    "It is important to mention that the perfect model would exhibit a ROC curve starting at the origin (0, 0) moving vertically up towards the point (0, 1) and then moving horizontally towards the point (1, 1). On the other hand, a model with no prediction capabilities would exhibit a ROC curve starting at the origin (0, 0), and then moving on a straight line towards the (1, 1) point (model 2 has no prediction capability).\n",
    "\n",
    "## Area Under the ROC Curve \n",
    "\n",
    "The area under the ROC curve gives us simple way of comparing the performance of two models. An area of 1 denotes the perfect model, while an area of 0.5 denotes a model with no predictive capabilities.\n",
    "\n",
    "A simple way of calculating this area is using the ```roc_auc_score()``` function from sklearn. In the block of code below we calculate the area under the curve (AUC) for both models and print it to screen."
   ]
  },
  {
   "cell_type": "code",
   "execution_count": 6,
   "metadata": {},
   "outputs": [
    {
     "name": "stdout",
     "output_type": "stream",
     "text": [
      "0.9558633200829626\n",
      "0.5118062231978818\n"
     ]
    }
   ],
   "source": [
    "#Calculate area under the curve for both ROCs\n",
    "auc_model1 = roc_auc_score(target, probs_model1)\n",
    "auc_model2 = roc_auc_score(target, probs_model2)\n",
    "\n",
    "#Print the area under the curve\n",
    "print(auc_model1)\n",
    "print(auc_model2)"
   ]
  },
  {
   "cell_type": "markdown",
   "metadata": {},
   "source": [
    "It is important to notice that we are passing two arguments into the function ``` roc_auc_score()```, the targets and the probabilities (scores) of our models. However, it is possible to pass other arguments into this function. For more information about it, please see [here]( https://scikit-learn.org/stable/modules/generated/sklearn.metrics.roc_auc_score.html)\n",
    "\n",
    "As expected, model's 1 AUC is very high (close to 1) while model's 2 AUC is very low (close to 0.5), indicating that model 1 has a better performance than model 2.\n",
    "\n",
    "## Final words\n",
    "We went over how to use the ROC to measure model performance and how can we use it to compare two models. Now it is you turn to start coding, try the following:\n",
    "\n",
    "* Modify the existing probabilities for model 1 and see how the ROC curve changes.\n",
    "\n",
    "* Plot FPR and TRP as a function of thresholds.\n"
   ]
  },
  {
   "cell_type": "code",
   "execution_count": null,
   "metadata": {},
   "outputs": [],
   "source": []
  }
 ],
 "metadata": {
  "kernelspec": {
   "display_name": "Python 3",
   "language": "python",
   "name": "python3"
  },
  "language_info": {
   "codemirror_mode": {
    "name": "ipython",
    "version": 3
   },
   "file_extension": ".py",
   "mimetype": "text/x-python",
   "name": "python",
   "nbconvert_exporter": "python",
   "pygments_lexer": "ipython3",
   "version": "3.7.3"
  }
 },
 "nbformat": 4,
 "nbformat_minor": 2
}
