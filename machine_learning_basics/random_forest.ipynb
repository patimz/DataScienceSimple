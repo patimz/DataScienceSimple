{
 "cells": [
  {
   "cell_type": "markdown",
   "metadata": {},
   "source": [
    "# Random Forest Classifier\n",
    "This notebook reviews the basic concepts you need to know in order to\n",
    "sucessfully create a random forest model. We will use the\n",
    "```RandomForestClassifier``` from **sklearn**.\n",
    "\n",
    "We start by importing some functions"
   ]
  },
  {
   "cell_type": "code",
   "execution_count": 1,
   "metadata": {},
   "outputs": [],
   "source": [
    "#Import the train_test_split function\n",
    "from sklearn.ensemble import RandomForestClassifier\n",
    "\n",
    "#Import the function that creates the data we will split\n",
    "from mlb_misc_functions import create_clf_table_1\n",
    "\n",
    "#Numpy\n",
    "import numpy as np"
   ]
  },
  {
   "cell_type": "markdown",
   "metadata": {},
   "source": [
    "## Data prep\n",
    "\n",
    "Now, we will create our modeling table (```model_data```). This is a dummy/fake table that resembles the format of real data. The table has 7 columns. 1 column is a row unique identifier, 5 columns are features, and the last column is the target. In this case the target takes the values 0 and 1."
   ]
  },
  {
   "cell_type": "code",
   "execution_count": 2,
   "metadata": {},
   "outputs": [
    {
     "data": {
      "text/html": [
       "<div>\n",
       "<style scoped>\n",
       "    .dataframe tbody tr th:only-of-type {\n",
       "        vertical-align: middle;\n",
       "    }\n",
       "\n",
       "    .dataframe tbody tr th {\n",
       "        vertical-align: top;\n",
       "    }\n",
       "\n",
       "    .dataframe thead th {\n",
       "        text-align: right;\n",
       "    }\n",
       "</style>\n",
       "<table border=\"1\" class=\"dataframe\">\n",
       "  <thead>\n",
       "    <tr style=\"text-align: right;\">\n",
       "      <th></th>\n",
       "      <th>row_id</th>\n",
       "      <th>feature_1</th>\n",
       "      <th>feature_2</th>\n",
       "      <th>feature_3</th>\n",
       "      <th>feature_4</th>\n",
       "      <th>feature_5</th>\n",
       "      <th>target</th>\n",
       "    </tr>\n",
       "  </thead>\n",
       "  <tbody>\n",
       "    <tr>\n",
       "      <th>0</th>\n",
       "      <td>0</td>\n",
       "      <td>0</td>\n",
       "      <td>-8</td>\n",
       "      <td>6</td>\n",
       "      <td>5</td>\n",
       "      <td>-5</td>\n",
       "      <td>0</td>\n",
       "    </tr>\n",
       "    <tr>\n",
       "      <th>1</th>\n",
       "      <td>1</td>\n",
       "      <td>3</td>\n",
       "      <td>3</td>\n",
       "      <td>-4</td>\n",
       "      <td>6</td>\n",
       "      <td>-5</td>\n",
       "      <td>1</td>\n",
       "    </tr>\n",
       "    <tr>\n",
       "      <th>2</th>\n",
       "      <td>2</td>\n",
       "      <td>-4</td>\n",
       "      <td>0</td>\n",
       "      <td>-8</td>\n",
       "      <td>0</td>\n",
       "      <td>8</td>\n",
       "      <td>0</td>\n",
       "    </tr>\n",
       "    <tr>\n",
       "      <th>3</th>\n",
       "      <td>3</td>\n",
       "      <td>-1</td>\n",
       "      <td>-7</td>\n",
       "      <td>-3</td>\n",
       "      <td>-10</td>\n",
       "      <td>9</td>\n",
       "      <td>0</td>\n",
       "    </tr>\n",
       "    <tr>\n",
       "      <th>4</th>\n",
       "      <td>4</td>\n",
       "      <td>-2</td>\n",
       "      <td>-5</td>\n",
       "      <td>6</td>\n",
       "      <td>3</td>\n",
       "      <td>0</td>\n",
       "      <td>1</td>\n",
       "    </tr>\n",
       "  </tbody>\n",
       "</table>\n",
       "</div>"
      ],
      "text/plain": [
       "   row_id  feature_1  feature_2  feature_3  feature_4  feature_5  target\n",
       "0       0          0         -8          6          5         -5       0\n",
       "1       1          3          3         -4          6         -5       1\n",
       "2       2         -4          0         -8          0          8       0\n",
       "3       3         -1         -7         -3        -10          9       0\n",
       "4       4         -2         -5          6          3          0       1"
      ]
     },
     "execution_count": 2,
     "metadata": {},
     "output_type": "execute_result"
    }
   ],
   "source": [
    "#Call the funciton that creates the table. 10,000 rows\n",
    "model_data = create_clf_table_1(10000)\n",
    "model_data.head()"
   ]
  },
  {
   "cell_type": "markdown",
   "metadata": {},
   "source": [
    "Now, we will split the table into training and testing set. For more info about how to split your data into training and testing click [here](https://github.com/sebaszb/DataScienceSimple/blob/master/machine_learning_basics/training_testing_split.ipynb)."
   ]
  },
  {
   "cell_type": "code",
   "execution_count": 3,
   "metadata": {},
   "outputs": [],
   "source": [
    "#Import the train_test_split function\n",
    "from sklearn.model_selection import train_test_split\n",
    "\n",
    "#split the data into training and testing\n",
    "model_train, model_test = train_test_split(model_data, test_size=0.20, random_state=11)"
   ]
  },
  {
   "cell_type": "markdown",
   "metadata": {},
   "source": [
    "Now we need to prepare the data for the **Randon Forest Classifier**. This is done in the following block of code."
   ]
  },
  {
   "cell_type": "code",
   "execution_count": 4,
   "metadata": {},
   "outputs": [],
   "source": [
    "#Lists with the name of the features (columns), and the name of the target\n",
    "features = [\"feature_1\", \"feature_2\", \"feature_3\", \"feature_4\", \"feature_5\"]\n",
    "target = [\"target\"]\n",
    "\n",
    "#Create arrays witht he \"x values\" (features) and the \"y values\" (targets) for the train data\n",
    "train_x = model_train[features].values\n",
    "train_y = np.ravel(model_train[target].values)\n",
    "\n",
    "#Create arrays witht he \"x values\" (features) and the \"y values\" (targets) for the test data\n",
    "test_x = model_test[features].values\n",
    "test_y = np.ravel(model_test[target].values)"
   ]
  },
  {
   "attachments": {},
   "cell_type": "markdown",
   "metadata": {},
   "source": [
    "Before we continue, let’s see what happened in the block of code above. The first two lines just create two lists (```features``` and ```target```) containing the column names for the features and the target.\n",
    "\n",
    "After that, four more variables are created: ```train_x```, ```test_x```, ```train_y```, and ```test_y```. ```train_x``` and ```test_x``` are an array of arrays, where each array contains the values of each one of the features, for the train and test data respectively. On the other hand, ```train_y``` and ```test_y``` are just simple arrays containing the targets (0s or 1s) for the train and test data, respectively.\n",
    "\n",
    "## Classifier training\n",
    "\n",
    "Now we will create our classifier and training it on the training data (```train_x``` and ```train_y```), se below:"
   ]
  },
  {
   "cell_type": "code",
   "execution_count": 108,
   "metadata": {},
   "outputs": [],
   "source": [
    "#Import the random forest classifier\n",
    "from sklearn.ensemble import RandomForestClassifier\n",
    "\n",
    "#create classifier and train it\n",
    "rf_clf = RandomForestClassifier(n_estimators=10, max_depth=5)\n",
    "rf_clf.fit(train_x, train_y)"
   ]
  },
  {
   "attachments": {},
   "cell_type": "markdown",
   "metadata": {},
   "source": [
    "It is important to notice that we are initializing our random forest classifier with ```n_estimators=10``` and  ```max_depth=5```. ** n_estimators** defines to the number of trees in the forest (in the classifier), while ** max_depth** defines the maximum depth of the tree. As you change their values, the performance of your classifier will change as well.\n",
    "\n",
    "There are several other hyperparameter that can be specified, and they can be tuned in order to obtain an optimal performance. We will talk about how to tune them in a different notebook. For now, you can read about all the other hyperparameters [here](https://scikit-learn.org/stable/modules/generated/sklearn.ensemble.RandomForestClassifier.html).\n",
    "\n",
    "## Predictions and Probabilities\n",
    "\n",
    "Once you have your Random Forest classifier trained, you can give it new data and either obtain predictions on the target (0s or 1s) or probabilities (numbers)\n",
    "\n",
    "it is ready to make predictions on new data. Usually you will be interested in getting the predictions for the target "
   ]
  },
  {
   "cell_type": "code",
   "execution_count": 105,
   "metadata": {},
   "outputs": [],
   "source": [
    "predictions = rf_clf.predict(test_x)\n",
    "probabilities = rf_clf.predict_proba(test_x)"
   ]
  },
  {
   "cell_type": "code",
   "execution_count": 106,
   "metadata": {},
   "outputs": [
    {
     "name": "stdout",
     "output_type": "stream",
     "text": [
      "Precision:  0.8293413173652695\n",
      "Recall:     0.7446236559139785\n",
      "############\n",
      "Confusion matrix\n",
      "[[1142  114]\n",
      " [ 190  554]]\n"
     ]
    }
   ],
   "source": [
    "from sklearn.metrics import precision_score, recall_score, confusion_matrix\n",
    "print(\"Precision: \", precision_score(test_y, predictions))\n",
    "print(\"Recall:    \", recall_score(test_y, predictions))\n",
    "print(\"############\")\n",
    "print(\"Confusion matrix\")\n",
    "print(confusion_matrix(test_y, predictions))"
   ]
  }
 ],
 "metadata": {
  "kernelspec": {
   "display_name": "Python 3",
   "language": "python",
   "name": "python3"
  },
  "language_info": {
   "codemirror_mode": {
    "name": "ipython",
    "version": 3
   },
   "file_extension": ".py",
   "mimetype": "text/x-python",
   "name": "python",
   "nbconvert_exporter": "python",
   "pygments_lexer": "ipython3",
   "version": "3.7.3"
  }
 },
 "nbformat": 4,
 "nbformat_minor": 2
}
