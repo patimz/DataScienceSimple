{
 "cells": [
  {
   "cell_type": "markdown",
   "metadata": {},
   "source": [
    "# Random Forest Classifier\n",
    "This notebook reviews the basic concepts you need to know in order to\n",
    "sucessfully create a random forest model. We will use the\n",
    "```RandomForestClassifier``` from **sklearn**.\n",
    "\n",
    "We start by importing some functions"
   ]
  },
  {
   "cell_type": "code",
   "execution_count": 18,
   "metadata": {},
   "outputs": [],
   "source": [
    "#Import the train_test_split function\n",
    "from sklearn.ensemble import RandomForestClassifier\n",
    "\n",
    "#Import the function that creates the data we will split\n",
    "from mlb_misc_functions import create_clf_table_1\n",
    "\n",
    "#Numpy\n",
    "import numpy as np"
   ]
  },
  {
   "cell_type": "markdown",
   "metadata": {},
   "source": [
    "## Data prep\n",
    "\n",
    "Now, we will create our modeling table (```model_data```). This is a dummy/fake table that resembles the format of real data. The table has 7 columns. 1 column is a row unique identifier, 5 columns are features, and the last column is the target. In this case the target takes the values 0 and 1."
   ]
  },
  {
   "cell_type": "code",
   "execution_count": 19,
   "metadata": {},
   "outputs": [
    {
     "data": {
      "text/html": [
       "<div>\n",
       "<style scoped>\n",
       "    .dataframe tbody tr th:only-of-type {\n",
       "        vertical-align: middle;\n",
       "    }\n",
       "\n",
       "    .dataframe tbody tr th {\n",
       "        vertical-align: top;\n",
       "    }\n",
       "\n",
       "    .dataframe thead th {\n",
       "        text-align: right;\n",
       "    }\n",
       "</style>\n",
       "<table border=\"1\" class=\"dataframe\">\n",
       "  <thead>\n",
       "    <tr style=\"text-align: right;\">\n",
       "      <th></th>\n",
       "      <th>row_id</th>\n",
       "      <th>feature_1</th>\n",
       "      <th>feature_2</th>\n",
       "      <th>feature_3</th>\n",
       "      <th>feature_4</th>\n",
       "      <th>feature_5</th>\n",
       "      <th>target</th>\n",
       "    </tr>\n",
       "  </thead>\n",
       "  <tbody>\n",
       "    <tr>\n",
       "      <th>0</th>\n",
       "      <td>0</td>\n",
       "      <td>5</td>\n",
       "      <td>-7</td>\n",
       "      <td>-2</td>\n",
       "      <td>-5</td>\n",
       "      <td>-5</td>\n",
       "      <td>0</td>\n",
       "    </tr>\n",
       "    <tr>\n",
       "      <th>1</th>\n",
       "      <td>1</td>\n",
       "      <td>7</td>\n",
       "      <td>-7</td>\n",
       "      <td>-3</td>\n",
       "      <td>8</td>\n",
       "      <td>3</td>\n",
       "      <td>1</td>\n",
       "    </tr>\n",
       "    <tr>\n",
       "      <th>2</th>\n",
       "      <td>2</td>\n",
       "      <td>-3</td>\n",
       "      <td>0</td>\n",
       "      <td>2</td>\n",
       "      <td>9</td>\n",
       "      <td>-2</td>\n",
       "      <td>1</td>\n",
       "    </tr>\n",
       "    <tr>\n",
       "      <th>3</th>\n",
       "      <td>3</td>\n",
       "      <td>-7</td>\n",
       "      <td>-1</td>\n",
       "      <td>6</td>\n",
       "      <td>-3</td>\n",
       "      <td>-1</td>\n",
       "      <td>0</td>\n",
       "    </tr>\n",
       "    <tr>\n",
       "      <th>4</th>\n",
       "      <td>4</td>\n",
       "      <td>-8</td>\n",
       "      <td>3</td>\n",
       "      <td>9</td>\n",
       "      <td>3</td>\n",
       "      <td>4</td>\n",
       "      <td>1</td>\n",
       "    </tr>\n",
       "  </tbody>\n",
       "</table>\n",
       "</div>"
      ],
      "text/plain": [
       "   row_id  feature_1  feature_2  feature_3  feature_4  feature_5  target\n",
       "0       0          5         -7         -2         -5         -5       0\n",
       "1       1          7         -7         -3          8          3       1\n",
       "2       2         -3          0          2          9         -2       1\n",
       "3       3         -7         -1          6         -3         -1       0\n",
       "4       4         -8          3          9          3          4       1"
      ]
     },
     "execution_count": 19,
     "metadata": {},
     "output_type": "execute_result"
    }
   ],
   "source": [
    "#Call the funciton that creates the table. 10,000 rows\n",
    "model_data = create_clf_table_1(10000)\n",
    "model_data.head()"
   ]
  },
  {
   "cell_type": "markdown",
   "metadata": {},
   "source": [
    "Now, we will split the table into training and testing set. For more info about how to split your data into training and testing click [here](https://github.com/sebaszb/DataScienceSimple/blob/master/machine_learning_basics/training_testing_split.ipynb)."
   ]
  },
  {
   "cell_type": "code",
   "execution_count": 20,
   "metadata": {},
   "outputs": [],
   "source": [
    "#Import the train_test_split function\n",
    "from sklearn.model_selection import train_test_split\n",
    "\n",
    "#split the data into training and testing\n",
    "model_train, model_test = train_test_split(model_data, test_size=0.20, random_state=11)"
   ]
  },
  {
   "cell_type": "markdown",
   "metadata": {},
   "source": [
    "Now we need to prepare the data for the **Randon Forest Classifier**. This is done in the following block of code."
   ]
  },
  {
   "cell_type": "code",
   "execution_count": 21,
   "metadata": {},
   "outputs": [],
   "source": [
    "#Lists with the name of the features (columns), and the name of the target\n",
    "features = [\"feature_1\", \"feature_2\", \"feature_3\", \"feature_4\", \"feature_5\"]\n",
    "target = [\"target\"]\n",
    "\n",
    "#Create arrays witht he \"x values\" (features) and the \"y values\" (targets) for the train data\n",
    "train_x = model_train[features].values\n",
    "train_y = np.ravel(model_train[target].values)\n",
    "\n",
    "#Create arrays witht he \"x values\" (features) and the \"y values\" (targets) for the test data\n",
    "test_x = model_test[features].values\n",
    "test_y = np.ravel(model_test[target].values)"
   ]
  },
  {
   "cell_type": "markdown",
   "metadata": {},
   "source": [
    "Before we continue, let’s see what happened in the block of code above. The first two lines just create two lists (```features``` and ```target```) containing the column names for the features and the target.\n",
    "\n",
    "After that, four more variables are created: ```train_x```, ```test_x```, ```train_y```, and ```test_y```. ```train_x``` and ```test_x``` are an array of arrays, where each array contains the values of each one of the features, for the train and test data respectively. On the other hand, ```train_y``` and ```test_y``` are just simple arrays containing the targets (0s or 1s) for the train and test data, respectively.\n",
    "\n",
    "## Classifier training\n",
    "\n",
    "Now we will create our classifier and training it on the training data (```train_x``` and ```train_y```), se below:"
   ]
  },
  {
   "cell_type": "code",
   "execution_count": 22,
   "metadata": {},
   "outputs": [
    {
     "data": {
      "text/plain": [
       "RandomForestClassifier(bootstrap=True, class_weight=None, criterion='gini',\n",
       "            max_depth=5, max_features='auto', max_leaf_nodes=None,\n",
       "            min_impurity_decrease=0.0, min_impurity_split=None,\n",
       "            min_samples_leaf=1, min_samples_split=2,\n",
       "            min_weight_fraction_leaf=0.0, n_estimators=10, n_jobs=None,\n",
       "            oob_score=False, random_state=None, verbose=0,\n",
       "            warm_start=False)"
      ]
     },
     "execution_count": 22,
     "metadata": {},
     "output_type": "execute_result"
    }
   ],
   "source": [
    "#Import the random forest classifier\n",
    "from sklearn.ensemble import RandomForestClassifier\n",
    "\n",
    "#create classifier and train it\n",
    "rf_clf = RandomForestClassifier(n_estimators=10, max_depth=5)\n",
    "rf_clf.fit(train_x, train_y)"
   ]
  },
  {
   "attachments": {},
   "cell_type": "markdown",
   "metadata": {},
   "source": [
    "It is important to notice that we are initializing our random forest classifier with ```n_estimators=10``` and  ```max_depth=5```. ** n_estimators** defines to the number of trees in the forest (in the classifier), while ** max_depth** defines the maximum depth of the tree. As you change their values, the performance of your classifier will change as well.\n",
    "\n",
    "There are several other hyperparameter that can be specified, and they can be tuned in order to obtain an optimal performance. We will talk about how to tune them in a different notebook. For now, you can read about all the other hyperparameters [here](https://scikit-learn.org/stable/modules/generated/sklearn.ensemble.RandomForestClassifier.html).\n",
    "\n",
    "## Predictions and Probabilities\n",
    "\n",
    "Once you have your Random Forest classifier trained, you can give it new data and either obtain predictions on the target (0s or 1s) or probabilities (numbers between 0 and 1).\n",
    "\n",
    "The probabilities are obtained using the method ```predict_proba```, while the predictions are obtained using the method ```predict```. In the following block of code we obtain the predictions and probabilities for the testing set, and we print to screen the first 10 elements of each list."
   ]
  },
  {
   "cell_type": "code",
   "execution_count": 23,
   "metadata": {},
   "outputs": [],
   "source": [
    "predictions = rf_clf.predict(test_x)\n",
    "probabilities = rf_clf.predict_proba(test_x)"
   ]
  },
  {
   "cell_type": "code",
   "execution_count": 24,
   "metadata": {},
   "outputs": [
    {
     "data": {
      "text/plain": [
       "array([0, 1, 0, 0, 0])"
      ]
     },
     "execution_count": 24,
     "metadata": {},
     "output_type": "execute_result"
    }
   ],
   "source": [
    "predictions[:5]"
   ]
  },
  {
   "cell_type": "code",
   "execution_count": 25,
   "metadata": {},
   "outputs": [
    {
     "data": {
      "text/plain": [
       "array([[0.96751772, 0.03248228],\n",
       "       [0.42321727, 0.57678273],\n",
       "       [0.94294702, 0.05705298],\n",
       "       [0.52031569, 0.47968431],\n",
       "       [0.85028681, 0.14971319]])"
      ]
     },
     "execution_count": 25,
     "metadata": {},
     "output_type": "execute_result"
    }
   ],
   "source": [
    "probabilities[:5]"
   ]
  },
  {
   "attachments": {},
   "cell_type": "markdown",
   "metadata": {},
   "source": [
    "While ```predictions``` is a simple array where each element takes the values 0 or 1, ```probabilities``` is an array where each element is also an array containing 2 elements. The first element is the probability of belonging to class 0, and the second element is the probability of belonging to class 1. The addition of both numbers is always 1.\n",
    "\n",
    "It is important to mention that the probabilities have more information than the predictions, since the predictions can be constructed using the probabilities. You only need to choose a threshold, if the probability for class 1 is larger than the chosen threshold, then the prediction is 1, otherwise is 0. The predictions given by the method ```predictions``` use 0.5 as threshold.\n",
    "\n",
    "## Final words\n",
    "We have covered the basic concepts to create and train a random forest classifier, plus how to obtain predictions and probabilities. Now is your turn to start coding! Try to use some metric (such as precision and recall) to evaluate the performance of your model as you change the hyperparameters.\n"
   ]
  },
  {
   "cell_type": "code",
   "execution_count": null,
   "metadata": {},
   "outputs": [],
   "source": []
  }
 ],
 "metadata": {
  "kernelspec": {
   "display_name": "Python 3",
   "language": "python",
   "name": "python3"
  },
  "language_info": {
   "codemirror_mode": {
    "name": "ipython",
    "version": 3
   },
   "file_extension": ".py",
   "mimetype": "text/x-python",
   "name": "python",
   "nbconvert_exporter": "python",
   "pygments_lexer": "ipython3",
   "version": "3.7.3"
  }
 },
 "nbformat": 4,
 "nbformat_minor": 2
}
